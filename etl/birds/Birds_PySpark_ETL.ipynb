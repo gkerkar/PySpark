{
  "nbformat": 4,
  "nbformat_minor": 0,
  "metadata": {
    "colab": {
      "name": "Birds PySpark ETL.ipynb",
      "provenance": []
    },
    "kernelspec": {
      "name": "python3",
      "display_name": "Python 3"
    }
  },
  "cells": [
    {
      "cell_type": "code",
      "metadata": {
        "id": "afsyHcrEeafi",
        "outputId": "7d8b43e2-7d5e-49cb-e966-ca069c209d02",
        "colab": {
          "base_uri": "https://localhost:8080/",
          "height": 238
        }
      },
      "source": [
        "!pip install pyspark"
      ],
      "execution_count": 4,
      "outputs": [
        {
          "output_type": "stream",
          "text": [
            "Collecting pyspark\n",
            "\u001b[?25l  Downloading https://files.pythonhosted.org/packages/f0/26/198fc8c0b98580f617cb03cb298c6056587b8f0447e20fa40c5b634ced77/pyspark-3.0.1.tar.gz (204.2MB)\n",
            "\u001b[K     |████████████████████████████████| 204.2MB 65kB/s \n",
            "\u001b[?25hCollecting py4j==0.10.9\n",
            "\u001b[?25l  Downloading https://files.pythonhosted.org/packages/9e/b6/6a4fb90cd235dc8e265a6a2067f2a2c99f0d91787f06aca4bcf7c23f3f80/py4j-0.10.9-py2.py3-none-any.whl (198kB)\n",
            "\u001b[K     |████████████████████████████████| 204kB 45.7MB/s \n",
            "\u001b[?25hBuilding wheels for collected packages: pyspark\n",
            "  Building wheel for pyspark (setup.py) ... \u001b[?25l\u001b[?25hdone\n",
            "  Created wheel for pyspark: filename=pyspark-3.0.1-py2.py3-none-any.whl size=204612243 sha256=711d789b022b3263e70cacc64c28eb639444de7bd58a0b84d01baf46aec37169\n",
            "  Stored in directory: /root/.cache/pip/wheels/5e/bd/07/031766ca628adec8435bb40f0bd83bb676ce65ff4007f8e73f\n",
            "Successfully built pyspark\n",
            "Installing collected packages: py4j, pyspark\n",
            "Successfully installed py4j-0.10.9 pyspark-3.0.1\n"
          ],
          "name": "stdout"
        }
      ]
    },
    {
      "cell_type": "code",
      "metadata": {
        "id": "oEe7EAmYepQW"
      },
      "source": [
        "# import PySpark Libraries\n",
        "\n",
        "from pyspark.sql import SparkSession"
      ],
      "execution_count": 1,
      "outputs": []
    },
    {
      "cell_type": "code",
      "metadata": {
        "id": "zC5DrCdle-KE"
      },
      "source": [
        "from pyspark.sql.types import StructType, StructField, StringType, DoubleType, IntegerType"
      ],
      "execution_count": 2,
      "outputs": []
    },
    {
      "cell_type": "code",
      "metadata": {
        "id": "OO-ejo6yfSTl"
      },
      "source": [
        "from pyspark.sql.functions import udf"
      ],
      "execution_count": 3,
      "outputs": []
    },
    {
      "cell_type": "code",
      "metadata": {
        "id": "Hyikc6LUfoUV"
      },
      "source": [
        "# Initiate PySpark Session\n",
        "\n",
        "spark = SparkSession\\\n",
        "        .builder\\\n",
        "        .appName(\"Birds\")\\\n",
        "        .getOrCreate()"
      ],
      "execution_count": 4,
      "outputs": []
    },
    {
      "cell_type": "code",
      "metadata": {
        "id": "l6XtpffHf1pX"
      },
      "source": [
        "# csv file input path.\n",
        "input_path = '/content/sample_data/birds.csv'\n",
        "\n",
        "# dataframe schema structure.\n",
        "input_schema = StructType(\n",
        "    [\n",
        "     StructField(\"Species\", StringType()),\n",
        "     StructField(\"Category\", StringType()),\n",
        "     StructField(\"Period\", StringType()),\n",
        "     StructField(\"Annual Percentage Change\", DoubleType())\n",
        "     ]\n",
        ")"
      ],
      "execution_count": 5,
      "outputs": []
    },
    {
      "cell_type": "code",
      "metadata": {
        "id": "juHvuPSshEYp"
      },
      "source": [
        "# Read the csv file.\n",
        "df = spark.read.csv(path = input_path, header=True, schema=input_schema)"
      ],
      "execution_count": 6,
      "outputs": []
    },
    {
      "cell_type": "code",
      "metadata": {
        "id": "4GXPl-_yh_mN",
        "outputId": "8504892a-ce9d-4663-a52c-4680de46889f",
        "colab": {
          "base_uri": "https://localhost:8080/",
          "height": 119
        }
      },
      "source": [
        "# Print Dataframe Schema.\n",
        "df.printSchema()"
      ],
      "execution_count": 7,
      "outputs": [
        {
          "output_type": "stream",
          "text": [
            "root\n",
            " |-- Species: string (nullable = true)\n",
            " |-- Category: string (nullable = true)\n",
            " |-- Period: string (nullable = true)\n",
            " |-- Annual Percentage Change: double (nullable = true)\n",
            "\n"
          ],
          "name": "stdout"
        }
      ]
    },
    {
      "cell_type": "code",
      "metadata": {
        "id": "DC7d9BWTiDtg",
        "outputId": "baee57e1-7cf6-40a5-9962-4dc837529b0a",
        "colab": {
          "base_uri": "https://localhost:8080/",
          "height": 34
        }
      },
      "source": [
        "# Get the count of DataFrame records.\n",
        "df.count()"
      ],
      "execution_count": 8,
      "outputs": [
        {
          "output_type": "execute_result",
          "data": {
            "text/plain": [
              "132"
            ]
          },
          "metadata": {
            "tags": []
          },
          "execution_count": 8
        }
      ]
    },
    {
      "cell_type": "code",
      "metadata": {
        "id": "VkZ4lb95iHED",
        "outputId": "c01fc216-d169-4c38-e3ac-7a61db95edef",
        "colab": {
          "base_uri": "https://localhost:8080/",
          "height": 459
        }
      },
      "source": [
        "# Display DataFrame data.\n",
        "df.show()"
      ],
      "execution_count": 9,
      "outputs": [
        {
          "output_type": "stream",
          "text": [
            "+--------------------+--------------+-----------+------------------------+\n",
            "|             Species|      Category|     Period|Annual Percentage Change|\n",
            "+--------------------+--------------+-----------+------------------------+\n",
            "|Greenfinch (Chlor...|Farmland birds|(1970-2014)|                   -1.13|\n",
            "|Jackdaw (Corvus m...|Farmland birds|(1970-2014)|                    2.12|\n",
            "|Kestrel (Falco ti...|Farmland birds|(1970-2014)|                   -1.49|\n",
            "|Reed Bunting (Emb...|Farmland birds|(1970-2014)|                   -0.86|\n",
            "|Rook (Corvus frug...|Farmland birds|(1970-2014)|                    0.17|\n",
            "|Woodpigeon (Colum...|Farmland birds|(1970-2014)|                    1.85|\n",
            "|Yellow Wagtail (M...|Farmland birds|(1970-2014)|                   -2.56|\n",
            "|Corn Bunting (Emb...|Farmland birds|(1970-2014)|                   -5.02|\n",
            "|Goldfinch (Cardue...|Farmland birds|(1970-2014)|                    2.14|\n",
            "|Grey Partridge (P...|Farmland birds|(1970-2014)|                   -5.46|\n",
            "|Lapwing (Vanellus...|Farmland birds|(1970-2014)|                   -2.28|\n",
            "|Linnet (Carduelis...|Farmland birds|(1970-2014)|                    -1.9|\n",
            "|Skylark (Alauda a...|Farmland birds|(1970-2014)|                   -2.05|\n",
            "|Starling (Sturnus...|Farmland birds|(1970-2014)|                   -3.64|\n",
            "|Stock Dove (Colum...|Farmland birds|(1970-2014)|                    1.76|\n",
            "|Tree Sparrow (Pas...|Farmland birds|(1970-2014)|                   -5.03|\n",
            "|Turtle Dove (Stre...|Farmland birds|(1970-2014)|                   -8.01|\n",
            "|Whitethroat (Sylv...|Farmland birds|(1970-2014)|                   -0.07|\n",
            "|Blackbird (Turdus...|Woodland birds|(1970-2014)|                   -0.38|\n",
            "|Blue Tit (Cyanist...|Woodland birds|(1970-2014)|                    0.48|\n",
            "+--------------------+--------------+-----------+------------------------+\n",
            "only showing top 20 rows\n",
            "\n"
          ],
          "name": "stdout"
        }
      ]
    },
    {
      "cell_type": "code",
      "metadata": {
        "id": "sFdcR0mBiJ3V"
      },
      "source": [
        "# this function derives the English name (from English and Latin species combination) from the Species column. \n",
        "def get_english_name(species):\n",
        "  return species.split('(')[0].strip()\n",
        "\n",
        "# print('test: {}'.format(get_english_name('Greenfinch (Chloris chloris)')))\n",
        "\n",
        "# this function returns the year (when the data collection began) from the Period column.\n",
        "def get_start_year(period):\n",
        "  return period.split('-')[0].strip('(')\n",
        "\n",
        "# print('test: {}'.format(get_start_year('(1970-2014)')))\n",
        "\n",
        "# this function returns the change trend category from the Annual Percentage Change column.\n",
        "def get_trend(annual_percentage_change):\n",
        "  trend = ''\n",
        "\n",
        "  if annual_percentage_change < -3.0:\n",
        "    trend = 'strong decline'\n",
        "  elif annual_percentage_change >= -3.0 and annual_percentage_change <= -0.50:\n",
        "    trend = 'weak decline'\n",
        "  elif annual_percentage_change > -0.50 and annual_percentage_change < 0.50:\n",
        "    trend = 'no change'\n",
        "  elif annual_percentage_change >= 0.50 and annual_percentage_change <= 3.0:\n",
        "    trend = 'weak increase'\n",
        "  elif annual_percentage_change > 3.0:\n",
        "    trend = 'strong increase'\n",
        "  else:\n",
        "    trend = 'unknown'\n",
        "\n",
        "  return trend\n",
        "\n",
        "# print('test: {}'.format(get_trend(0.44)))\n"
      ],
      "execution_count": 10,
      "outputs": []
    },
    {
      "cell_type": "code",
      "metadata": {
        "id": "iHJjrW0xdtj_",
        "outputId": "cb5c68aa-5983-4205-bfb4-d4bbd807cee3",
        "colab": {
          "base_uri": "https://localhost:8080/",
          "height": 34
        }
      },
      "source": [
        "# Register the get_english_name function as PySpark UDF functions.\n",
        "spark.udf.register(\"get_english_name\", get_english_name,StringType())"
      ],
      "execution_count": 11,
      "outputs": [
        {
          "output_type": "execute_result",
          "data": {
            "text/plain": [
              "<function __main__.get_english_name>"
            ]
          },
          "metadata": {
            "tags": []
          },
          "execution_count": 11
        }
      ]
    },
    {
      "cell_type": "code",
      "metadata": {
        "id": "FtJNuC1ldtuD",
        "outputId": "5b4e1067-1a62-40a3-85ba-f3a86ff33b90",
        "colab": {
          "base_uri": "https://localhost:8080/",
          "height": 34
        }
      },
      "source": [
        "# Register the get_start_year function as PySpark UDF functions.\n",
        "spark.udf.register(\"get_start_year\", get_start_year, StringType())"
      ],
      "execution_count": 12,
      "outputs": [
        {
          "output_type": "execute_result",
          "data": {
            "text/plain": [
              "<function __main__.get_start_year>"
            ]
          },
          "metadata": {
            "tags": []
          },
          "execution_count": 12
        }
      ]
    },
    {
      "cell_type": "code",
      "metadata": {
        "id": "8aTkVVTPdt4X",
        "outputId": "40ed1a5e-930c-4c17-dc47-16d503a397bf",
        "colab": {
          "base_uri": "https://localhost:8080/",
          "height": 34
        }
      },
      "source": [
        "# Register the get_trend function as PySpark UDF functions.\n",
        "spark.udf.register(\"get_trend\", get_trend, StringType())"
      ],
      "execution_count": 13,
      "outputs": [
        {
          "output_type": "execute_result",
          "data": {
            "text/plain": [
              "<function __main__.get_trend>"
            ]
          },
          "metadata": {
            "tags": []
          },
          "execution_count": 13
        }
      ]
    },
    {
      "cell_type": "code",
      "metadata": {
        "id": "QNS8YReod2r9"
      },
      "source": [
        "# change the DataFrame into a table or view.\n",
        "df.createOrReplaceTempView(\"birds_data\")"
      ],
      "execution_count": 14,
      "outputs": []
    },
    {
      "cell_type": "code",
      "metadata": {
        "id": "tkK4CQrOTO1q"
      },
      "source": [
        "# call the PySpark UDF functions to transform the data.\n",
        "birds_sql = spark.sql(\"SELECT get_english_name(Species) as species \\\n",
        "                        , category \\\n",
        "                        , get_start_year(Period) as collect_from_year \\\n",
        "                        , `Annual Percentage Change` as annual_percentage_change \\\n",
        "                        , get_trend(`Annual Percentage Change`) as trend \\\n",
        "                        FROM birds_data\")"
      ],
      "execution_count": 15,
      "outputs": []
    },
    {
      "cell_type": "code",
      "metadata": {
        "id": "wO3uQV-zWkPX",
        "outputId": "8e0cf790-fd10-4c9b-894b-7ef20ee1a3d6",
        "colab": {
          "base_uri": "https://localhost:8080/",
          "height": 459
        }
      },
      "source": [
        "birds_sql.show()"
      ],
      "execution_count": 16,
      "outputs": [
        {
          "output_type": "stream",
          "text": [
            "+--------------+--------------+-----------------+------------------------+--------------+\n",
            "|       species|      category|collect_from_year|annual_percentage_change|         trend|\n",
            "+--------------+--------------+-----------------+------------------------+--------------+\n",
            "|    Greenfinch|Farmland birds|             1970|                   -1.13|  weak decline|\n",
            "|       Jackdaw|Farmland birds|             1970|                    2.12| weak increase|\n",
            "|       Kestrel|Farmland birds|             1970|                   -1.49|  weak decline|\n",
            "|  Reed Bunting|Farmland birds|             1970|                   -0.86|  weak decline|\n",
            "|          Rook|Farmland birds|             1970|                    0.17|     no change|\n",
            "|    Woodpigeon|Farmland birds|             1970|                    1.85| weak increase|\n",
            "|Yellow Wagtail|Farmland birds|             1970|                   -2.56|  weak decline|\n",
            "|  Corn Bunting|Farmland birds|             1970|                   -5.02|strong decline|\n",
            "|     Goldfinch|Farmland birds|             1970|                    2.14| weak increase|\n",
            "|Grey Partridge|Farmland birds|             1970|                   -5.46|strong decline|\n",
            "|       Lapwing|Farmland birds|             1970|                   -2.28|  weak decline|\n",
            "|        Linnet|Farmland birds|             1970|                    -1.9|  weak decline|\n",
            "|       Skylark|Farmland birds|             1970|                   -2.05|  weak decline|\n",
            "|      Starling|Farmland birds|             1970|                   -3.64|strong decline|\n",
            "|    Stock Dove|Farmland birds|             1970|                    1.76| weak increase|\n",
            "|  Tree Sparrow|Farmland birds|             1970|                   -5.03|strong decline|\n",
            "|   Turtle Dove|Farmland birds|             1970|                   -8.01|strong decline|\n",
            "|   Whitethroat|Farmland birds|             1970|                   -0.07|     no change|\n",
            "|     Blackbird|Woodland birds|             1970|                   -0.38|     no change|\n",
            "|      Blue Tit|Woodland birds|             1970|                    0.48|     no change|\n",
            "+--------------+--------------+-----------------+------------------------+--------------+\n",
            "only showing top 20 rows\n",
            "\n"
          ],
          "name": "stdout"
        }
      ]
    }
  ]
}