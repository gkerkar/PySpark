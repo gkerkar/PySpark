{
  "nbformat": 4,
  "nbformat_minor": 0,
  "metadata": {
    "colab": {
      "name": "Birds PySpark.ipynb",
      "provenance": []
    },
    "kernelspec": {
      "name": "python3",
      "display_name": "Python 3"
    }
  },
  "cells": [
    {
      "cell_type": "code",
      "metadata": {
        "id": "afsyHcrEeafi"
      },
      "source": [
        "# !pip install pyspark"
      ],
      "execution_count": 1,
      "outputs": []
    },
    {
      "cell_type": "code",
      "metadata": {
        "id": "oEe7EAmYepQW"
      },
      "source": [
        "# import PySpark Libraries\n",
        "\n",
        "from pyspark.sql import SparkSession\n",
        "from pyspark.sql.types import StructType, StructField, StringType, DoubleType, IntegerType\n",
        "from pyspark.sql.functions import udf"
      ],
      "execution_count": 2,
      "outputs": []
    },
    {
      "cell_type": "code",
      "metadata": {
        "id": "Hyikc6LUfoUV"
      },
      "source": [
        "# Initiate PySpark Session\n",
        "\n",
        "spark = SparkSession\\\n",
        "        .builder\\\n",
        "        .appName(\"Birds\")\\\n",
        "        .getOrCreate()"
      ],
      "execution_count": 3,
      "outputs": []
    },
    {
      "cell_type": "code",
      "metadata": {
        "id": "l6XtpffHf1pX"
      },
      "source": [
        "# csv file input path.\n",
        "input_path = '/content/sample_data/birds.csv'\n",
        "\n",
        "# dataframe schema structure.\n",
        "input_schema = StructType(\n",
        "    [\n",
        "     StructField(\"Species\", StringType()),\n",
        "     StructField(\"Category\", StringType()),\n",
        "     StructField(\"Period\", StringType()),\n",
        "     StructField(\"Annual Percentage Change\", DoubleType())\n",
        "     ]\n",
        ")"
      ],
      "execution_count": 4,
      "outputs": []
    },
    {
      "cell_type": "code",
      "metadata": {
        "id": "juHvuPSshEYp"
      },
      "source": [
        "# Read the csv file.\n",
        "df = spark.read.csv(path = input_path, header=True, schema=input_schema)"
      ],
      "execution_count": 5,
      "outputs": []
    },
    {
      "cell_type": "code",
      "metadata": {
        "id": "4GXPl-_yh_mN",
        "outputId": "5f0e41ad-6771-4af9-b5dc-a2149b011702",
        "colab": {
          "base_uri": "https://localhost:8080/",
          "height": 119
        }
      },
      "source": [
        "# Print Dataframe Schema.\n",
        "df.printSchema()"
      ],
      "execution_count": 6,
      "outputs": [
        {
          "output_type": "stream",
          "text": [
            "root\n",
            " |-- Species: string (nullable = true)\n",
            " |-- Category: string (nullable = true)\n",
            " |-- Period: string (nullable = true)\n",
            " |-- Annual Percentage Change: double (nullable = true)\n",
            "\n"
          ],
          "name": "stdout"
        }
      ]
    },
    {
      "cell_type": "code",
      "metadata": {
        "id": "DC7d9BWTiDtg",
        "outputId": "30b82df5-8ece-47be-d252-21ab967419eb",
        "colab": {
          "base_uri": "https://localhost:8080/",
          "height": 34
        }
      },
      "source": [
        "# Get the count of DataFrame records.\n",
        "df.count()"
      ],
      "execution_count": 7,
      "outputs": [
        {
          "output_type": "execute_result",
          "data": {
            "text/plain": [
              "132"
            ]
          },
          "metadata": {
            "tags": []
          },
          "execution_count": 7
        }
      ]
    },
    {
      "cell_type": "code",
      "metadata": {
        "id": "VkZ4lb95iHED",
        "outputId": "e3d17ac5-57f3-4149-8cd2-bdcc1cc045ae",
        "colab": {
          "base_uri": "https://localhost:8080/",
          "height": 459
        }
      },
      "source": [
        "# Display DataFrame data.\n",
        "df.show()"
      ],
      "execution_count": 8,
      "outputs": [
        {
          "output_type": "stream",
          "text": [
            "+--------------------+--------------+-----------+------------------------+\n",
            "|             Species|      Category|     Period|Annual Percentage Change|\n",
            "+--------------------+--------------+-----------+------------------------+\n",
            "|Greenfinch (Chlor...|Farmland birds|(1970-2014)|                   -1.13|\n",
            "|Jackdaw (Corvus m...|Farmland birds|(1970-2014)|                    2.12|\n",
            "|Kestrel (Falco ti...|Farmland birds|(1970-2014)|                   -1.49|\n",
            "|Reed Bunting (Emb...|Farmland birds|(1970-2014)|                   -0.86|\n",
            "|Rook (Corvus frug...|Farmland birds|(1970-2014)|                    0.17|\n",
            "|Woodpigeon (Colum...|Farmland birds|(1970-2014)|                    1.85|\n",
            "|Yellow Wagtail (M...|Farmland birds|(1970-2014)|                   -2.56|\n",
            "|Corn Bunting (Emb...|Farmland birds|(1970-2014)|                   -5.02|\n",
            "|Goldfinch (Cardue...|Farmland birds|(1970-2014)|                    2.14|\n",
            "|Grey Partridge (P...|Farmland birds|(1970-2014)|                   -5.46|\n",
            "|Lapwing (Vanellus...|Farmland birds|(1970-2014)|                   -2.28|\n",
            "|Linnet (Carduelis...|Farmland birds|(1970-2014)|                    -1.9|\n",
            "|Skylark (Alauda a...|Farmland birds|(1970-2014)|                   -2.05|\n",
            "|Starling (Sturnus...|Farmland birds|(1970-2014)|                   -3.64|\n",
            "|Stock Dove (Colum...|Farmland birds|(1970-2014)|                    1.76|\n",
            "|Tree Sparrow (Pas...|Farmland birds|(1970-2014)|                   -5.03|\n",
            "|Turtle Dove (Stre...|Farmland birds|(1970-2014)|                   -8.01|\n",
            "|Whitethroat (Sylv...|Farmland birds|(1970-2014)|                   -0.07|\n",
            "|Blackbird (Turdus...|Woodland birds|(1970-2014)|                   -0.38|\n",
            "|Blue Tit (Cyanist...|Woodland birds|(1970-2014)|                    0.48|\n",
            "+--------------------+--------------+-----------+------------------------+\n",
            "only showing top 20 rows\n",
            "\n"
          ],
          "name": "stdout"
        }
      ]
    },
    {
      "cell_type": "code",
      "metadata": {
        "id": "sFdcR0mBiJ3V"
      },
      "source": [
        "# this function derives the English name (from English and Latin species combination) from the Species column. \n",
        "def get_english_name(species):\n",
        "  return species.split('(')[0].strip()\n",
        "\n",
        "# print('test: {}'.format(get_english_name('Greenfinch (Chloris chloris)')))\n",
        "\n",
        "# this function returns the year (when the data collection began) from the Period column.\n",
        "def get_start_year(period):\n",
        "  return period.split('-')[0].strip('(')\n",
        "\n",
        "# print('test: {}'.format(get_start_year('(1970-2014)')))\n",
        "\n",
        "# this function returns the change trend category from the Annual Percentage Change column.\n",
        "def get_trend(annual_percentage_change):\n",
        "  trend = ''\n",
        "\n",
        "  if annual_percentage_change < -3.0:\n",
        "    trend = 'strong decline'\n",
        "  elif annual_percentage_change >= -3.0 and annual_percentage_change <= -0.50:\n",
        "    trend = 'weak decline'\n",
        "  elif annual_percentage_change > -0.50 and annual_percentage_change < 0.50:\n",
        "    trend = 'no change'\n",
        "  elif annual_percentage_change >= 0.50 and annual_percentage_change <= 3.0:\n",
        "    trend = 'weak increase'\n",
        "  elif annual_percentage_change > 3.0:\n",
        "    trend = 'strong increase'\n",
        "  else:\n",
        "    trend = 'unknown'\n",
        "\n",
        "  return trend\n",
        "\n",
        "# print('test: {}'.format(get_trend(0.44)))\n"
      ],
      "execution_count": 9,
      "outputs": []
    },
    {
      "cell_type": "code",
      "metadata": {
        "id": "u4ggLJ2UZBLB"
      },
      "source": [
        "get_english_name = udf(get_english_name, StringType())\n",
        "get_start_year = udf(get_start_year, StringType())\n",
        "get_trend = udf(get_trend, StringType())\n",
        "\n",
        "# spark.udf.register(\"get_english_name\",lambda x: get_english_name(x),StringType())\n",
        "# spark.udf.register(\"get_start_year\", lambda x: get_start_year(x), StringType())\n",
        "# spark.udf.register(\"get_trend\", lambda x: get_trend(x), StringType())"
      ],
      "execution_count": 10,
      "outputs": []
    },
    {
      "cell_type": "code",
      "metadata": {
        "id": "Wz8sm2cHcTaw"
      },
      "source": [
        "df = df.withColumn(\"species\", get_english_name(\"Species\"))\n",
        "df = df.withColumnRenamed(\"Category\",\"category\")\n",
        "df = df.withColumn(\"collect_from_year\", get_start_year(\"Period\"))\n",
        "# new_df = new_df.withColumnRenamed(\"`Annual Percentage Change`\",\"annual_percentage_change\")\n",
        "df = df.withColumn(\"annual_percentage_change\",df['Annual Percentage Change'])\n",
        "df = df.withColumn(\"trend\", get_trend(\"Annual Percentage Change\"))\n",
        "df = df.drop('Period','Annual Percentage Change')\n"
      ],
      "execution_count": 11,
      "outputs": []
    },
    {
      "cell_type": "code",
      "metadata": {
        "id": "V5-TOEW1gfD3",
        "outputId": "dadcff7d-c7ab-4796-d7ff-52ed5f423db6",
        "colab": {
          "base_uri": "https://localhost:8080/",
          "height": 459
        }
      },
      "source": [
        "df.show()"
      ],
      "execution_count": 12,
      "outputs": [
        {
          "output_type": "stream",
          "text": [
            "+--------------+--------------+-----------------+------------------------+--------------+\n",
            "|       species|      category|collect_from_year|annual_percentage_change|         trend|\n",
            "+--------------+--------------+-----------------+------------------------+--------------+\n",
            "|    Greenfinch|Farmland birds|             1970|                   -1.13|  weak decline|\n",
            "|       Jackdaw|Farmland birds|             1970|                    2.12| weak increase|\n",
            "|       Kestrel|Farmland birds|             1970|                   -1.49|  weak decline|\n",
            "|  Reed Bunting|Farmland birds|             1970|                   -0.86|  weak decline|\n",
            "|          Rook|Farmland birds|             1970|                    0.17|     no change|\n",
            "|    Woodpigeon|Farmland birds|             1970|                    1.85| weak increase|\n",
            "|Yellow Wagtail|Farmland birds|             1970|                   -2.56|  weak decline|\n",
            "|  Corn Bunting|Farmland birds|             1970|                   -5.02|strong decline|\n",
            "|     Goldfinch|Farmland birds|             1970|                    2.14| weak increase|\n",
            "|Grey Partridge|Farmland birds|             1970|                   -5.46|strong decline|\n",
            "|       Lapwing|Farmland birds|             1970|                   -2.28|  weak decline|\n",
            "|        Linnet|Farmland birds|             1970|                    -1.9|  weak decline|\n",
            "|       Skylark|Farmland birds|             1970|                   -2.05|  weak decline|\n",
            "|      Starling|Farmland birds|             1970|                   -3.64|strong decline|\n",
            "|    Stock Dove|Farmland birds|             1970|                    1.76| weak increase|\n",
            "|  Tree Sparrow|Farmland birds|             1970|                   -5.03|strong decline|\n",
            "|   Turtle Dove|Farmland birds|             1970|                   -8.01|strong decline|\n",
            "|   Whitethroat|Farmland birds|             1970|                   -0.07|     no change|\n",
            "|     Blackbird|Woodland birds|             1970|                   -0.38|     no change|\n",
            "|      Blue Tit|Woodland birds|             1970|                    0.48|     no change|\n",
            "+--------------+--------------+-----------------+------------------------+--------------+\n",
            "only showing top 20 rows\n",
            "\n"
          ],
          "name": "stdout"
        }
      ]
    }
  ]
}