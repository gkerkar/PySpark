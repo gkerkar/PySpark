{
  "nbformat": 4,
  "nbformat_minor": 0,
  "metadata": {
    "colab": {
      "name": "Fire_Department_PySpark_ETL.ipynb",
      "provenance": []
    },
    "kernelspec": {
      "name": "python3",
      "display_name": "Python 3"
    }
  },
  "cells": [
    {
      "cell_type": "code",
      "metadata": {
        "id": "ImIxd4MhDqQf",
        "outputId": "cbee33e0-44d2-4d2e-fe31-c767f2f86abd",
        "colab": {
          "base_uri": "https://localhost:8080/",
          "height": 51
        }
      },
      "source": [
        "!pip install pyspark"
      ],
      "execution_count": 1,
      "outputs": [
        {
          "output_type": "stream",
          "text": [
            "Requirement already satisfied: pyspark in /usr/local/lib/python3.6/dist-packages (3.0.1)\n",
            "Requirement already satisfied: py4j==0.10.9 in /usr/local/lib/python3.6/dist-packages (from pyspark) (0.10.9)\n"
          ],
          "name": "stdout"
        }
      ]
    },
    {
      "cell_type": "code",
      "metadata": {
        "id": "ltia8io7Kdo7"
      },
      "source": [
        "from pyspark.sql import SparkSession"
      ],
      "execution_count": 2,
      "outputs": []
    },
    {
      "cell_type": "code",
      "metadata": {
        "id": "hhP2sAU5_2db"
      },
      "source": [
        "spark = SparkSession\\\n",
        "        .builder\\\n",
        "        .appName(\"Fire_Department_Data\")\\\n",
        "        .getOrCreate()"
      ],
      "execution_count": 3,
      "outputs": []
    },
    {
      "cell_type": "code",
      "metadata": {
        "id": "25RH4osvADob"
      },
      "source": [
        "df = spark.read.csv(path = '/content/drive/My\\ Drive/Colab\\ Datasets/Fire_Department_Calls_for_Service.csv', header=True, inferSchema=True)"
      ],
      "execution_count": 4,
      "outputs": []
    },
    {
      "cell_type": "code",
      "metadata": {
        "id": "Z4_pLNv4BU-9",
        "outputId": "71bb32aa-57e5-4526-c56c-e46f37f92e84",
        "colab": {
          "base_uri": "https://localhost:8080/",
          "height": 34
        }
      },
      "source": [
        "df.count()"
      ],
      "execution_count": 5,
      "outputs": [
        {
          "output_type": "execute_result",
          "data": {
            "text/plain": [
              "5391169"
            ]
          },
          "metadata": {
            "tags": []
          },
          "execution_count": 5
        }
      ]
    },
    {
      "cell_type": "code",
      "metadata": {
        "id": "QSDSJpknBje0",
        "outputId": "7f3a7cb1-88b3-4bec-a6c8-a3cff44d12f1",
        "colab": {
          "base_uri": "https://localhost:8080/",
          "height": 884
        }
      },
      "source": [
        "df.printSchema()"
      ],
      "execution_count": 6,
      "outputs": [
        {
          "output_type": "stream",
          "text": [
            "root\n",
            " |-- Call Number: integer (nullable = true)\n",
            " |-- Unit ID: string (nullable = true)\n",
            " |-- Incident Number: integer (nullable = true)\n",
            " |-- Call Type: string (nullable = true)\n",
            " |-- Call Date: string (nullable = true)\n",
            " |-- Watch Date: string (nullable = true)\n",
            " |-- Received DtTm: string (nullable = true)\n",
            " |-- Entry DtTm: string (nullable = true)\n",
            " |-- Dispatch DtTm: string (nullable = true)\n",
            " |-- Response DtTm: string (nullable = true)\n",
            " |-- On Scene DtTm: string (nullable = true)\n",
            " |-- Transport DtTm: string (nullable = true)\n",
            " |-- Hospital DtTm: string (nullable = true)\n",
            " |-- Call Final Disposition: string (nullable = true)\n",
            " |-- Available DtTm: string (nullable = true)\n",
            " |-- Address: string (nullable = true)\n",
            " |-- City: string (nullable = true)\n",
            " |-- Zipcode of Incident: integer (nullable = true)\n",
            " |-- Battalion: string (nullable = true)\n",
            " |-- Station Area: string (nullable = true)\n",
            " |-- Box: string (nullable = true)\n",
            " |-- Original Priority: string (nullable = true)\n",
            " |-- Priority: string (nullable = true)\n",
            " |-- Final Priority: integer (nullable = true)\n",
            " |-- ALS Unit: boolean (nullable = true)\n",
            " |-- Call Type Group: string (nullable = true)\n",
            " |-- Number of Alarms: integer (nullable = true)\n",
            " |-- Unit Type: string (nullable = true)\n",
            " |-- Unit sequence in call dispatch: integer (nullable = true)\n",
            " |-- Fire Prevention District: string (nullable = true)\n",
            " |-- Supervisor District: string (nullable = true)\n",
            " |-- Neighborhooods - Analysis Boundaries: string (nullable = true)\n",
            " |-- Location: string (nullable = true)\n",
            " |-- RowID: string (nullable = true)\n",
            " |-- shape: string (nullable = true)\n",
            " |-- Supervisor Districts: integer (nullable = true)\n",
            " |-- Fire Prevention Districts: integer (nullable = true)\n",
            " |-- Current Police Districts: integer (nullable = true)\n",
            " |-- Neighborhoods - Analysis Boundaries: integer (nullable = true)\n",
            " |-- Zip Codes: integer (nullable = true)\n",
            " |-- Neighborhoods (old): integer (nullable = true)\n",
            " |-- Police Districts: integer (nullable = true)\n",
            " |-- Civic Center Harm Reduction Project Boundary: integer (nullable = true)\n",
            " |-- HSOC Zones: integer (nullable = true)\n",
            " |-- Central Market/Tenderloin Boundary Polygon - Updated: integer (nullable = true)\n",
            " |-- Neighborhoods: integer (nullable = true)\n",
            " |-- SF Find Neighborhoods: integer (nullable = true)\n",
            " |-- Current Police Districts 2: integer (nullable = true)\n",
            " |-- Current Supervisor Districts: integer (nullable = true)\n",
            "\n"
          ],
          "name": "stdout"
        }
      ]
    },
    {
      "cell_type": "code",
      "metadata": {
        "id": "AIvUYn-IAUhN"
      },
      "source": [
        "from pyspark.sql.types import StructType, StructField, IntegerType, StringType, BooleanType"
      ],
      "execution_count": 7,
      "outputs": []
    },
    {
      "cell_type": "code",
      "metadata": {
        "id": "nQ0b9V0tAA_Z"
      },
      "source": [
        "fireSchema = StructType([\n",
        "StructField('CallNumber', IntegerType(), True),\n",
        "StructField('UnitID', StringType(), True),\n",
        "StructField('IncidentNumber', IntegerType(), True),\n",
        "StructField('CallType', StringType(), True),\n",
        "StructField('CallDate', StringType(), True),\n",
        "StructField('WatchDate', StringType(), True),\n",
        "StructField('ReceivedDtTm', StringType(), True),\n",
        "StructField('EntryDtTm', StringType(), True),\n",
        "StructField('DispatchDtTm', StringType(), True),\n",
        "StructField('ResponseDtTm', StringType(), True),\n",
        "StructField('OnSceneDtTm', StringType(), True),\n",
        "StructField('TransportDtTm', StringType(), True),\n",
        "StructField('HospitalDtTm', StringType(), True),\n",
        "StructField('CallFinalDisposition', StringType(), True),\n",
        "StructField('AvailableDtTm', StringType(), True),\n",
        "StructField('Address', StringType(), True),\n",
        "StructField('City', StringType(), True),\n",
        "StructField('ZipcodeofIncident', IntegerType(), True),\n",
        "StructField('Battalion', StringType(), True),\n",
        "StructField('StationArea', StringType(), True),\n",
        "StructField('Box', StringType(), True),\n",
        "StructField('OriginalPriority', StringType(), True),\n",
        "StructField('Priority', StringType(), True),\n",
        "StructField('FinalPriority', IntegerType(), True),\n",
        "StructField('ALSUnit', BooleanType(), True),\n",
        "StructField('CallTypeGroup', StringType(), True),\n",
        "StructField('NumberofAlarms', IntegerType(), True),\n",
        "StructField('UnitType', StringType(), True),\n",
        "StructField('Unitsequenceincalldispatch', IntegerType(), True),\n",
        "StructField('FirePreventionDistrict', StringType(), True),\n",
        "StructField('SupervisorDistrict', StringType(), True),\n",
        "StructField('Neighborhooods-AnalysisBoundaries', StringType(), True),\n",
        "StructField('Location', StringType(), True),\n",
        "StructField('RowID', StringType(), True),\n",
        "StructField('shape', StringType(), True),\n",
        "StructField('SupervisorDistricts', IntegerType(), True),\n",
        "StructField('FirePreventionDistricts', IntegerType(), True),\n",
        "StructField('CurrentPoliceDistricts', IntegerType(), True),\n",
        "StructField('Neighborhoods-AnalysisBoundaries', IntegerType(), True),\n",
        "StructField('ZipCodes', IntegerType(), True),\n",
        "StructField('Neighborhoods(old)', IntegerType(), True),\n",
        "StructField('PoliceDistricts', IntegerType(), True),\n",
        "StructField('CivicCenterHarmReductionProjectBoundary', IntegerType(), True),\n",
        "StructField('HSOCZones', IntegerType(), True),\n",
        "StructField('CentralMarket/TenderloinBoundaryPolygon-Updated', IntegerType(), True),\n",
        "StructField('Neighborhoods', IntegerType(), True),\n",
        "StructField('SFFindNeighborhoods', IntegerType(), True),\n",
        "StructField('CurrentPoliceDistricts2', IntegerType(), True),\n",
        "StructField('CurrentSupervisorDistricts', IntegerType(), True)\n",
        "])"
      ],
      "execution_count": 8,
      "outputs": []
    },
    {
      "cell_type": "code",
      "metadata": {
        "id": "0OHgTcvLBuVI"
      },
      "source": [
        "fireServiceCallsDF = spark.read.csv(path = '/content/drive/My\\ Drive/Colab\\ Datasets/Fire_Department_Calls_for_Service.csv', \\\n",
        "                               header=True, \\\n",
        "                               schema=fireSchema)"
      ],
      "execution_count": 9,
      "outputs": []
    },
    {
      "cell_type": "code",
      "metadata": {
        "id": "worOgB0mCcX0",
        "outputId": "113e1d64-9a32-47fa-b1dd-fb787d00c289",
        "colab": {
          "base_uri": "https://localhost:8080/",
          "height": 884
        }
      },
      "source": [
        "fireServiceCallsDF.printSchema()"
      ],
      "execution_count": 10,
      "outputs": [
        {
          "output_type": "stream",
          "text": [
            "root\n",
            " |-- CallNumber: integer (nullable = true)\n",
            " |-- UnitID: string (nullable = true)\n",
            " |-- IncidentNumber: integer (nullable = true)\n",
            " |-- CallType: string (nullable = true)\n",
            " |-- CallDate: string (nullable = true)\n",
            " |-- WatchDate: string (nullable = true)\n",
            " |-- ReceivedDtTm: string (nullable = true)\n",
            " |-- EntryDtTm: string (nullable = true)\n",
            " |-- DispatchDtTm: string (nullable = true)\n",
            " |-- ResponseDtTm: string (nullable = true)\n",
            " |-- OnSceneDtTm: string (nullable = true)\n",
            " |-- TransportDtTm: string (nullable = true)\n",
            " |-- HospitalDtTm: string (nullable = true)\n",
            " |-- CallFinalDisposition: string (nullable = true)\n",
            " |-- AvailableDtTm: string (nullable = true)\n",
            " |-- Address: string (nullable = true)\n",
            " |-- City: string (nullable = true)\n",
            " |-- ZipcodeofIncident: integer (nullable = true)\n",
            " |-- Battalion: string (nullable = true)\n",
            " |-- StationArea: string (nullable = true)\n",
            " |-- Box: string (nullable = true)\n",
            " |-- OriginalPriority: string (nullable = true)\n",
            " |-- Priority: string (nullable = true)\n",
            " |-- FinalPriority: integer (nullable = true)\n",
            " |-- ALSUnit: boolean (nullable = true)\n",
            " |-- CallTypeGroup: string (nullable = true)\n",
            " |-- NumberofAlarms: integer (nullable = true)\n",
            " |-- UnitType: string (nullable = true)\n",
            " |-- Unitsequenceincalldispatch: integer (nullable = true)\n",
            " |-- FirePreventionDistrict: string (nullable = true)\n",
            " |-- SupervisorDistrict: string (nullable = true)\n",
            " |-- Neighborhooods-AnalysisBoundaries: string (nullable = true)\n",
            " |-- Location: string (nullable = true)\n",
            " |-- RowID: string (nullable = true)\n",
            " |-- shape: string (nullable = true)\n",
            " |-- SupervisorDistricts: integer (nullable = true)\n",
            " |-- FirePreventionDistricts: integer (nullable = true)\n",
            " |-- CurrentPoliceDistricts: integer (nullable = true)\n",
            " |-- Neighborhoods-AnalysisBoundaries: integer (nullable = true)\n",
            " |-- ZipCodes: integer (nullable = true)\n",
            " |-- Neighborhoods(old): integer (nullable = true)\n",
            " |-- PoliceDistricts: integer (nullable = true)\n",
            " |-- CivicCenterHarmReductionProjectBoundary: integer (nullable = true)\n",
            " |-- HSOCZones: integer (nullable = true)\n",
            " |-- CentralMarket/TenderloinBoundaryPolygon-Updated: integer (nullable = true)\n",
            " |-- Neighborhoods: integer (nullable = true)\n",
            " |-- SFFindNeighborhoods: integer (nullable = true)\n",
            " |-- CurrentPoliceDistricts2: integer (nullable = true)\n",
            " |-- CurrentSupervisorDistricts: integer (nullable = true)\n",
            "\n"
          ],
          "name": "stdout"
        }
      ]
    },
    {
      "cell_type": "code",
      "metadata": {
        "id": "G8LwgMs8C3dY",
        "outputId": "4c402077-408a-451f-f2cb-977f57fcf041",
        "colab": {
          "base_uri": "https://localhost:8080/",
          "height": 224
        }
      },
      "source": [
        "fireServiceCallsDF.show(5, False)"
      ],
      "execution_count": 11,
      "outputs": [
        {
          "output_type": "stream",
          "text": [
            "+----------+------+--------------+----------------+----------+----------+----------------------+----------------------+----------------------+----------------------+----------------------+-------------+------------+--------------------------+----------------------+-------------------------+----+-----------------+---------+-----------+----+----------------+--------+-------------+-------+-------------+--------------+--------------+--------------------------+----------------------+------------------+---------------------------------+------------------------------------+-------------+-----------------------------------------+-------------------+-----------------------+----------------------+--------------------------------+--------+------------------+---------------+---------------------------------------+---------+-----------------------------------------------+-------------+-------------------+-----------------------+--------------------------+\n",
            "|CallNumber|UnitID|IncidentNumber|CallType        |CallDate  |WatchDate |ReceivedDtTm          |EntryDtTm             |DispatchDtTm          |ResponseDtTm          |OnSceneDtTm           |TransportDtTm|HospitalDtTm|CallFinalDisposition      |AvailableDtTm         |Address                  |City|ZipcodeofIncident|Battalion|StationArea|Box |OriginalPriority|Priority|FinalPriority|ALSUnit|CallTypeGroup|NumberofAlarms|UnitType      |Unitsequenceincalldispatch|FirePreventionDistrict|SupervisorDistrict|Neighborhooods-AnalysisBoundaries|Location                            |RowID        |shape                                    |SupervisorDistricts|FirePreventionDistricts|CurrentPoliceDistricts|Neighborhoods-AnalysisBoundaries|ZipCodes|Neighborhoods(old)|PoliceDistricts|CivicCenterHarmReductionProjectBoundary|HSOCZones|CentralMarket/TenderloinBoundaryPolygon-Updated|Neighborhoods|SFFindNeighborhoods|CurrentPoliceDistricts2|CurrentSupervisorDistricts|\n",
            "+----------+------+--------------+----------------+----------+----------+----------------------+----------------------+----------------------+----------------------+----------------------+-------------+------------+--------------------------+----------------------+-------------------------+----+-----------------+---------+-----------+----+----------------+--------+-------------+-------+-------------+--------------+--------------+--------------------------+----------------------+------------------+---------------------------------+------------------------------------+-------------+-----------------------------------------+-------------------+-----------------------+----------------------+--------------------------------+--------+------------------+---------------+---------------------------------------+---------+-----------------------------------------------+-------------+-------------------+-----------------------+--------------------------+\n",
            "|60640268  |E17   |6018058       |Alarms          |03/05/2006|03/05/2006|03/05/2006 06:37:01 PM|03/05/2006 06:45:24 PM|03/05/2006 06:45:39 PM|null                  |03/05/2006 06:50:08 PM|null         |null        |Other                     |03/05/2006 07:07:05 PM|1300 Block of OAKDALE AVE|SF  |94124            |B10      |17         |0653|3               |3       |3            |true   |null         |1             |ENGINE        |1                         |10                    |10                |Bayview Hunters Point            |(37.732342352455, -122.386280381355)|060640268-E17|POINT (-122.386280381355 37.732342352455)|8                  |10                     |3                     |1                               |58      |1                 |3              |null                                   |null     |null                                           |86           |86                 |2                      |9                         |\n",
            "|60560284  |T15   |6015653       |Structure Fire  |02/25/2006|02/25/2006|02/25/2006 06:17:35 PM|02/25/2006 06:17:35 PM|02/25/2006 06:17:49 PM|02/25/2006 06:18:41 PM|02/25/2006 06:20:05 PM|null         |null        |Fire                      |02/25/2006 06:21:16 PM|GENEVA AV/TARA ST        |SF  |94112            |B09      |15         |8313|3               |3       |3            |false  |null         |1             |TRUCK         |1                         |9                     |11                |Oceanview/Merced/Ingleside       |(37.721396869221, -122.448410646975)|060560284-T15|POINT (-122.448410646975 37.721396869221)|6                  |9                      |5                     |24                              |28861   |24                |8              |null                                   |null     |null                                           |81           |81                 |10                     |1                         |\n",
            "|61480176  |T05   |6041096       |Alarms          |05/28/2006|05/28/2006|05/28/2006 12:39:31 PM|05/28/2006 12:41:04 PM|05/28/2006 12:41:11 PM|05/28/2006 12:42:01 PM|05/28/2006 12:43:29 PM|null         |null        |Other                     |null                  |1500 Block of EDDY ST    |SF  |94115            |B05      |05         |3624|3               |3       |3            |false  |null         |1             |TRUCK         |1                         |5                     |5                 |Western Addition                 |(37.781269356473, -122.433140098256)|061480176-T05|POINT (-122.433140098256 37.781269356473)|11                 |15                     |6                     |39                              |29490   |41                |9              |null                                   |null     |null                                           |97           |97                 |4                      |11                        |\n",
            "|61180215  |M36   |6032760       |Medical Incident|04/28/2006|04/28/2006|04/28/2006 12:59:36 PM|04/28/2006 01:02:52 PM|04/28/2006 01:03:46 PM|04/28/2006 01:05:24 PM|04/28/2006 01:06:02 PM|null         |null        |Patient Declined Transport|04/28/2006 01:10:33 PM|600 Block of STEVENSON ST|SF  |94103            |B02      |01         |2316|3               |3       |3            |true   |null         |1             |MEDIC         |1                         |2                     |6                 |South of Market                  |(37.779523171162, -122.412639291793)|061180215-M36|POINT (-122.412639291793 37.779523171162)|9                  |8                      |2                     |34                              |28853   |34                |2              |1                                      |1        |1                                              |32           |32                 |5                      |10                        |\n",
            "|61030317  |RC2   |6028690       |Medical Incident|04/13/2006|04/13/2006|04/13/2006 04:24:38 PM|04/13/2006 04:25:50 PM|04/13/2006 04:27:01 PM|04/13/2006 04:28:01 PM|04/13/2006 04:32:03 PM|null         |null        |Other                     |04/13/2006 04:47:15 PM|700 Block of 35TH AVE    |SF  |94121            |B07      |34         |7252|3               |3       |3            |true   |null         |1             |RESCUE CAPTAIN|2                         |7                     |1                 |Outer Richmond                   |(37.774876893512, -122.495176037656)|061030317-RC2|POINT (-122.495176037656 37.774876893512)|2                  |11                     |9                     |29                              |55      |26                |6              |null                                   |null     |null                                           |8            |8                  |8                      |4                         |\n",
            "+----------+------+--------------+----------------+----------+----------+----------------------+----------------------+----------------------+----------------------+----------------------+-------------+------------+--------------------------+----------------------+-------------------------+----+-----------------+---------+-----------+----+----------------+--------+-------------+-------+-------------+--------------+--------------+--------------------------+----------------------+------------------+---------------------------------+------------------------------------+-------------+-----------------------------------------+-------------------+-----------------------+----------------------+--------------------------------+--------+------------------+---------------+---------------------------------------+---------+-----------------------------------------------+-------------+-------------------+-----------------------+--------------------------+\n",
            "only showing top 5 rows\n",
            "\n"
          ],
          "name": "stdout"
        }
      ]
    },
    {
      "cell_type": "code",
      "metadata": {
        "id": "eIm0cp1ccneO",
        "outputId": "f8df1d37-ab09-46b8-8a44-77237cb50186",
        "colab": {
          "base_uri": "https://localhost:8080/",
          "height": 289
        }
      },
      "source": [
        "#How many different types of calls were made to the Fire Department\n",
        "fireServiceCallsDF.select('CallType').distinct().show(10, False)"
      ],
      "execution_count": 12,
      "outputs": [
        {
          "output_type": "stream",
          "text": [
            "+-----------------------------------+\n",
            "|CallType                           |\n",
            "+-----------------------------------+\n",
            "|Elevator / Escalator Rescue        |\n",
            "|Marine Fire                        |\n",
            "|Aircraft Emergency                 |\n",
            "|Confined Space / Structure Collapse|\n",
            "|Administrative                     |\n",
            "|Alarms                             |\n",
            "|Odor (Strange / Unknown)           |\n",
            "|Lightning Strike (Investigation)   |\n",
            "|Citizen Assist / Service Call      |\n",
            "|HazMat                             |\n",
            "+-----------------------------------+\n",
            "only showing top 10 rows\n",
            "\n"
          ],
          "name": "stdout"
        }
      ]
    },
    {
      "cell_type": "code",
      "metadata": {
        "id": "Ux5hnJt9j9oS",
        "outputId": "3fb44cd2-6ac4-48ec-c824-ea09c517b753",
        "colab": {
          "base_uri": "https://localhost:8080/",
          "height": 289
        }
      },
      "source": [
        "#How many incidents of each call type were made to the Fire Department\n",
        "fireServiceCallsDF.select('CallType').groupBy('CallType').count().orderBy('count',ascending = False).show(10,False)"
      ],
      "execution_count": 13,
      "outputs": [
        {
          "output_type": "stream",
          "text": [
            "+-------------------------------+-------+\n",
            "|CallType                       |count  |\n",
            "+-------------------------------+-------+\n",
            "|Medical Incident               |3523134|\n",
            "|Structure Fire                 |672942 |\n",
            "|Alarms                         |585670 |\n",
            "|Traffic Collision              |220617 |\n",
            "|Other                          |85338  |\n",
            "|Citizen Assist / Service Call  |80537  |\n",
            "|Outside Fire                   |66251  |\n",
            "|Water Rescue                   |27154  |\n",
            "|Vehicle Fire                   |25042  |\n",
            "|Gas Leak (Natural and LP Gases)|22129  |\n",
            "+-------------------------------+-------+\n",
            "only showing top 10 rows\n",
            "\n"
          ],
          "name": "stdout"
        }
      ]
    },
    {
      "cell_type": "code",
      "metadata": {
        "id": "xZl1osAHpONd"
      },
      "source": [
        "from pyspark.sql.functions import *"
      ],
      "execution_count": 14,
      "outputs": []
    },
    {
      "cell_type": "code",
      "metadata": {
        "id": "nM1pnLujmyZu"
      },
      "source": [
        "# Change the Date Fields format to convert to Timestamp\n",
        "\n",
        "from_pattern1 = 'MM/dd/yyyy'\n",
        "# to_pattern1 = 'yyyy-MM-dd'\n",
        "\n",
        "from_pattern2 = 'MM/dd/yyyy HH:mm:ss a'\n",
        "# to_pattern2 = 'MM/dd/yyyy HH:mm:ss.SS'\n",
        "\n",
        "fireServiceCallsTsDf = fireServiceCallsDF \\\n",
        "                      .withColumn('CallDateTS', unix_timestamp(fireServiceCallsDF['CallDate'],from_pattern1).cast(\"timestamp\")) \\\n",
        "                      .drop('CallDate') \\\n",
        "                      .withColumn('WatchDateTS', unix_timestamp(fireServiceCallsDF['WatchDate'],from_pattern1).cast(\"timestamp\")) \\\n",
        "                      .drop('WatchDate') \\\n",
        "                      .withColumn('ReceivedDtTmTS', unix_timestamp(fireServiceCallsDF['ReceivedDtTm'],from_pattern2).cast(\"timestamp\")) \\\n",
        "                      .drop('ReceivedDtTm') \\\n",
        "                      .withColumn('EntryDtTmTS', unix_timestamp(fireServiceCallsDF['EntryDtTm'],from_pattern2).cast(\"timestamp\")) \\\n",
        "                      .drop('EntryDtTm') \\\n",
        "                      .withColumn('DispatchDtTmTS', unix_timestamp(fireServiceCallsDF['DispatchDtTm'],from_pattern2).cast(\"timestamp\")) \\\n",
        "                      .drop('DispatchDtTm') \\\n",
        "                      .withColumn('ResponseDtTmTS', unix_timestamp(fireServiceCallsDF['ResponseDtTm'],from_pattern2).cast(\"timestamp\")) \\\n",
        "                      .drop('ResponseDtTm') \\\n",
        "                      .withColumn('OnSceneDtTmTS', unix_timestamp(fireServiceCallsDF['OnSceneDtTm'],from_pattern2).cast(\"timestamp\")) \\\n",
        "                      .drop('OnSceneDtTm') \\\n",
        "                      .withColumn('TransportDtTmTS', unix_timestamp(fireServiceCallsDF['TransportDtTm'],from_pattern2).cast(\"timestamp\")) \\\n",
        "                      .drop('TransportDtTm') \\\n",
        "                      .withColumn('HospitalDtTmTS', unix_timestamp(fireServiceCallsDF['HospitalDtTm'],from_pattern2).cast(\"timestamp\")) \\\n",
        "                      .drop('HospitalDtTm') \\\n",
        "                      .withColumn('AvailableDtTmTS', unix_timestamp(fireServiceCallsDF['AvailableDtTm'],from_pattern2).cast(\"timestamp\")) \\\n",
        "                      .drop('AvailableDtTm')"
      ],
      "execution_count": 15,
      "outputs": []
    },
    {
      "cell_type": "code",
      "metadata": {
        "id": "fgUnmS_lrawz",
        "outputId": "d2a36b0b-af62-4e2a-b521-8941f78dca1d",
        "colab": {
          "base_uri": "https://localhost:8080/",
          "height": 884
        }
      },
      "source": [
        "fireServiceCallsTsDf.printSchema()"
      ],
      "execution_count": 16,
      "outputs": [
        {
          "output_type": "stream",
          "text": [
            "root\n",
            " |-- CallNumber: integer (nullable = true)\n",
            " |-- UnitID: string (nullable = true)\n",
            " |-- IncidentNumber: integer (nullable = true)\n",
            " |-- CallType: string (nullable = true)\n",
            " |-- CallFinalDisposition: string (nullable = true)\n",
            " |-- Address: string (nullable = true)\n",
            " |-- City: string (nullable = true)\n",
            " |-- ZipcodeofIncident: integer (nullable = true)\n",
            " |-- Battalion: string (nullable = true)\n",
            " |-- StationArea: string (nullable = true)\n",
            " |-- Box: string (nullable = true)\n",
            " |-- OriginalPriority: string (nullable = true)\n",
            " |-- Priority: string (nullable = true)\n",
            " |-- FinalPriority: integer (nullable = true)\n",
            " |-- ALSUnit: boolean (nullable = true)\n",
            " |-- CallTypeGroup: string (nullable = true)\n",
            " |-- NumberofAlarms: integer (nullable = true)\n",
            " |-- UnitType: string (nullable = true)\n",
            " |-- Unitsequenceincalldispatch: integer (nullable = true)\n",
            " |-- FirePreventionDistrict: string (nullable = true)\n",
            " |-- SupervisorDistrict: string (nullable = true)\n",
            " |-- Neighborhooods-AnalysisBoundaries: string (nullable = true)\n",
            " |-- Location: string (nullable = true)\n",
            " |-- RowID: string (nullable = true)\n",
            " |-- shape: string (nullable = true)\n",
            " |-- SupervisorDistricts: integer (nullable = true)\n",
            " |-- FirePreventionDistricts: integer (nullable = true)\n",
            " |-- CurrentPoliceDistricts: integer (nullable = true)\n",
            " |-- Neighborhoods-AnalysisBoundaries: integer (nullable = true)\n",
            " |-- ZipCodes: integer (nullable = true)\n",
            " |-- Neighborhoods(old): integer (nullable = true)\n",
            " |-- PoliceDistricts: integer (nullable = true)\n",
            " |-- CivicCenterHarmReductionProjectBoundary: integer (nullable = true)\n",
            " |-- HSOCZones: integer (nullable = true)\n",
            " |-- CentralMarket/TenderloinBoundaryPolygon-Updated: integer (nullable = true)\n",
            " |-- Neighborhoods: integer (nullable = true)\n",
            " |-- SFFindNeighborhoods: integer (nullable = true)\n",
            " |-- CurrentPoliceDistricts2: integer (nullable = true)\n",
            " |-- CurrentSupervisorDistricts: integer (nullable = true)\n",
            " |-- CallDateTS: timestamp (nullable = true)\n",
            " |-- WatchDateTS: timestamp (nullable = true)\n",
            " |-- ReceivedDtTmTS: timestamp (nullable = true)\n",
            " |-- EntryDtTmTS: timestamp (nullable = true)\n",
            " |-- DispatchDtTmTS: timestamp (nullable = true)\n",
            " |-- ResponseDtTmTS: timestamp (nullable = true)\n",
            " |-- OnSceneDtTmTS: timestamp (nullable = true)\n",
            " |-- TransportDtTmTS: timestamp (nullable = true)\n",
            " |-- HospitalDtTmTS: timestamp (nullable = true)\n",
            " |-- AvailableDtTmTS: timestamp (nullable = true)\n",
            "\n"
          ],
          "name": "stdout"
        }
      ]
    },
    {
      "cell_type": "code",
      "metadata": {
        "id": "WvPfdDCnrq-z",
        "outputId": "2e34bb85-a192-42e7-dc09-a96abdc63548",
        "colab": {
          "base_uri": "https://localhost:8080/",
          "height": 479
        }
      },
      "source": [
        "fireServiceCallsTsDf.show()"
      ],
      "execution_count": 17,
      "outputs": [
        {
          "output_type": "stream",
          "text": [
            "+----------+------+--------------+--------------------+--------------------+--------------------+----+-----------------+---------+-----------+----+----------------+--------+-------------+-------+-------------+--------------+--------------+--------------------------+----------------------+------------------+---------------------------------+--------------------+-------------+--------------------+-------------------+-----------------------+----------------------+--------------------------------+--------+------------------+---------------+---------------------------------------+---------+-----------------------------------------------+-------------+-------------------+-----------------------+--------------------------+-------------------+-------------------+-------------------+-------------------+-------------------+-------------------+-------------------+-------------------+-------------------+-------------------+\n",
            "|CallNumber|UnitID|IncidentNumber|            CallType|CallFinalDisposition|             Address|City|ZipcodeofIncident|Battalion|StationArea| Box|OriginalPriority|Priority|FinalPriority|ALSUnit|CallTypeGroup|NumberofAlarms|      UnitType|Unitsequenceincalldispatch|FirePreventionDistrict|SupervisorDistrict|Neighborhooods-AnalysisBoundaries|            Location|        RowID|               shape|SupervisorDistricts|FirePreventionDistricts|CurrentPoliceDistricts|Neighborhoods-AnalysisBoundaries|ZipCodes|Neighborhoods(old)|PoliceDistricts|CivicCenterHarmReductionProjectBoundary|HSOCZones|CentralMarket/TenderloinBoundaryPolygon-Updated|Neighborhoods|SFFindNeighborhoods|CurrentPoliceDistricts2|CurrentSupervisorDistricts|         CallDateTS|        WatchDateTS|     ReceivedDtTmTS|        EntryDtTmTS|     DispatchDtTmTS|     ResponseDtTmTS|      OnSceneDtTmTS|    TransportDtTmTS|     HospitalDtTmTS|    AvailableDtTmTS|\n",
            "+----------+------+--------------+--------------------+--------------------+--------------------+----+-----------------+---------+-----------+----+----------------+--------+-------------+-------+-------------+--------------+--------------+--------------------------+----------------------+------------------+---------------------------------+--------------------+-------------+--------------------+-------------------+-----------------------+----------------------+--------------------------------+--------+------------------+---------------+---------------------------------------+---------+-----------------------------------------------+-------------+-------------------+-----------------------+--------------------------+-------------------+-------------------+-------------------+-------------------+-------------------+-------------------+-------------------+-------------------+-------------------+-------------------+\n",
            "|  60640268|   E17|       6018058|              Alarms|               Other|1300 Block of OAK...|  SF|            94124|      B10|         17|0653|               3|       3|            3|   true|         null|             1|        ENGINE|                         1|                    10|                10|             Bayview Hunters P...|(37.732342352455,...|060640268-E17|POINT (-122.38628...|                  8|                     10|                     3|                               1|      58|                 1|              3|                                   null|     null|                                           null|           86|                 86|                      2|                         9|2006-03-05 00:00:00|2006-03-05 00:00:00|               null|               null|               null|               null|               null|               null|               null|               null|\n",
            "|  60560284|   T15|       6015653|      Structure Fire|                Fire|   GENEVA AV/TARA ST|  SF|            94112|      B09|         15|8313|               3|       3|            3|  false|         null|             1|         TRUCK|                         1|                     9|                11|             Oceanview/Merced/...|(37.721396869221,...|060560284-T15|POINT (-122.44841...|                  6|                      9|                     5|                              24|   28861|                24|              8|                                   null|     null|                                           null|           81|                 81|                     10|                         1|2006-02-25 00:00:00|2006-02-25 00:00:00|               null|               null|               null|               null|               null|               null|               null|               null|\n",
            "|  61480176|   T05|       6041096|              Alarms|               Other|1500 Block of EDD...|  SF|            94115|      B05|         05|3624|               3|       3|            3|  false|         null|             1|         TRUCK|                         1|                     5|                 5|                 Western Addition|(37.781269356473,...|061480176-T05|POINT (-122.43314...|                 11|                     15|                     6|                              39|   29490|                41|              9|                                   null|     null|                                           null|           97|                 97|                      4|                        11|2006-05-28 00:00:00|2006-05-28 00:00:00|2006-05-28 12:39:31|2006-05-28 12:41:04|2006-05-28 12:41:11|2006-05-28 12:42:01|2006-05-28 12:43:29|               null|               null|               null|\n",
            "|  61180215|   M36|       6032760|    Medical Incident|Patient Declined ...|600 Block of STEV...|  SF|            94103|      B02|         01|2316|               3|       3|            3|   true|         null|             1|         MEDIC|                         1|                     2|                 6|                  South of Market|(37.779523171162,...|061180215-M36|POINT (-122.41263...|                  9|                      8|                     2|                              34|   28853|                34|              2|                                      1|        1|                                              1|           32|                 32|                      5|                        10|2006-04-28 00:00:00|2006-04-28 00:00:00|2006-04-28 12:59:36|               null|               null|               null|               null|               null|               null|               null|\n",
            "|  61030317|   RC2|       6028690|    Medical Incident|               Other|700 Block of 35TH...|  SF|            94121|      B07|         34|7252|               3|       3|            3|   true|         null|             1|RESCUE CAPTAIN|                         2|                     7|                 1|                   Outer Richmond|(37.774876893512,...|061030317-RC2|POINT (-122.49517...|                  2|                     11|                     9|                              29|      55|                26|              6|                                   null|     null|                                           null|            8|                  8|                      8|                         4|2006-04-13 00:00:00|2006-04-13 00:00:00|               null|               null|               null|               null|               null|               null|               null|               null|\n",
            "|  53580099|   M14|       5097403|    Medical Incident|               Other|500 Block of 7TH AVE|  SF|            94118|      B07|         31|7131|               3|       3|            3|   true|         null|             1|         MEDIC|                         2|                     7|                 1|                   Inner Richmond|(37.778110610917,...|053580099-M14|POINT (-122.46520...|                  2|                     11|                     9|                              11|      54|                11|              6|                                   null|     null|                                           null|            5|                  5|                      8|                         4|2005-12-24 00:00:00|2005-12-24 00:00:00|2005-12-24 09:30:21|2005-12-24 09:32:24|2005-12-24 09:32:40|2005-12-24 09:33:38|2005-12-24 09:37:39|               null|               null|2005-12-24 09:54:36|\n",
            "|  60600015|   B01|       6016676|              Alarms|                Fire|900 Block of CALI...|  SF|            94108|      B01|         41|1418|               3|       3|            3|  false|         null|             1|         CHIEF|                         3|                     1|                 3|                         Nob Hill|(37.791884329768,...|060600015-B01|POINT (-122.40998...|                 10|                      5|                     1|                              21|   28857|                21|              1|                                   null|     null|                                           null|           16|                 16|                      6|                         3|2006-03-01 00:00:00|2006-02-28 00:00:00|2006-03-01 01:15:34|2006-03-01 01:17:23|2006-03-01 01:17:33|2006-03-01 01:19:06|2006-03-01 01:21:11|               null|               null|2006-03-01 01:31:02|\n",
            "|  61190108|   M10|       6032974|    Medical Incident|                Fire|2800 Block of JAC...|  SF|            94115|      B04|         10|4231|               3|       3|            3|   true|         null|             1|         MEDIC|                         1|                     4|                 2|                  Pacific Heights|(37.791470213471,...|061190108-M10|POINT (-122.44197...|                  1|                     13|                     9|                              30|   29490|                27|              6|                                   null|     null|                                           null|          102|                102|                      8|                         6|2006-04-29 00:00:00|2006-04-29 00:00:00|2006-04-29 08:46:43|2006-04-29 08:47:29|2006-04-29 08:47:38|2006-04-29 08:48:26|2006-04-29 08:50:43|               null|               null|2006-04-29 09:19:37|\n",
            "|  53650475|   T09|       5099573|              Alarms|               Other|1800 Block of 20T...|  SF|            94107|      B10|         37|2521|               3|       3|            3|  false|         null|             1|         TRUCK|                         2|                    10|                10|                     Potrero Hill|(37.759876222006,...|053650475-T09|POINT (-122.39966...|                  8|                     10|                     3|                              26|   28856|                29|              3|                                   null|     null|                                           null|           54|                 54|                      2|                         9|2005-12-31 00:00:00|2005-12-31 00:00:00|               null|               null|               null|               null|               null|               null|               null|               null|\n",
            "|  60990038|   E06|       6027433|              Alarms|               Other|0 Block of SANCHE...|  SF|            94114|      B05|         06|5131|               3|       3|            3|   true|         null|             1|        ENGINE|                         2|                     2|                 8|              Castro/Upper Market|(37.768462245902,...|060990038-E06|POINT (-122.43120...|                  5|                      7|                     6|                               5|   28862|                 3|              9|                                   null|     null|                                           null|           28|                 28|                      7|                         5|2006-04-09 00:00:00|2006-04-08 00:00:00|2006-04-09 02:36:30|2006-04-09 02:37:53|2006-04-09 02:38:09|2006-04-09 02:42:06|2006-04-09 02:42:14|               null|               null|2006-04-09 03:27:47|\n",
            "|  60840172|   RC2|       6023382|    Medical Incident|               Other|1300 Block of HAI...|  SF|            94117|      B05|         21|4466|               3|       3|            3|   true|         null|             1|RESCUE CAPTAIN|                         4|                     5|                 5|                   Haight Ashbury|(37.770372507137,...|060840172-RC2|POINT (-122.44450...|                 11|                     15|                     8|                               3|   29492|                 9|              5|                                   null|     null|                                           null|           25|                 25|                      7|                        11|2006-03-25 00:00:00|2006-03-25 00:00:00|2006-03-25 11:37:36|2006-03-25 11:39:49|2006-03-25 11:40:10|2006-03-25 12:12:17|               null|               null|               null|2006-03-25 12:13:32|\n",
            "|  61410186|   T16|       6039128|           Explosion|               Other|    POLK ST/UNION ST|  SF|            94109|      B04|         41|3131|               3|       3|            3|  false|         null|             1|         TRUCK|                         4|                     4|                 3|                     Russian Hill|(37.798761579094,...|061410186-T16|POINT (-122.42233...|                 10|                     13|                     6|                              32|   28858|                32|              9|                                   null|     null|                                           null|          107|                107|                      4|                         3|2006-05-21 00:00:00|2006-05-21 00:00:00|2006-05-21 12:13:25|2006-05-21 12:14:53|2006-05-21 12:15:14|2006-05-21 12:16:51|2006-05-21 12:23:10|               null|               null|2006-05-21 12:36:47|\n",
            "|  61430200|   E11|       6039672|    Medical Incident|               Other|3500 Block of 19T...|  SF|            94110|      B06|         07|5434|               3|       3|            3|   true|         null|             1|        ENGINE|                         3|                     6|                 8|                          Mission|(37.760021359404,...|061430200-E11|POINT (-122.42183...|                  5|                      2|                     7|                              20|   28859|                19|              4|                                   null|     null|                                           null|           37|                 37|                      3|                         5|2006-05-23 00:00:00|2006-05-23 00:00:00|2006-05-23 12:46:02|2006-05-23 12:47:33|2006-05-23 12:47:48|2006-05-23 12:48:51|2006-05-23 12:52:48|               null|               null|               null|\n",
            "|  60320010|   M01|       6008727|Citizen Assist / ...|                Fire|100 Block of EDDY ST|  SF|            94102|      B03|         01|1453|               3|       3|            3|   true|         null|             1|         MEDIC|                         1|                     3|                 6|                       Tenderloin|(37.784190904789,...|060320010-M01|POINT (-122.41011...|                  9|                     14|                    10|                              36|   28852|                36|             10|                                      1|     null|                                              1|           20|                 20|                      5|                        10|2006-02-01 00:00:00|2006-01-31 00:00:00|2006-02-01 01:35:35|2006-02-01 01:38:57|2006-02-01 01:39:05|2006-02-01 01:53:07|2006-02-01 01:57:59|               null|               null|2006-02-01 02:19:36|\n",
            "|  53520186|   T02|       5095473|Elevator / Escala...|                Fire|1200 Block of CLA...|  SF|            94108|      B01|         41|1444|               3|       3|            3|  false|         null|             1|         TRUCK|                         1|                     1|                 3|                         Nob Hill|(37.79338200359, ...|053520186-T02|POINT (-122.41366...|                 10|                      5|                     1|                              21|   28857|                21|              1|                                   null|     null|                                           null|           16|                 16|                      6|                         3|2005-12-18 00:00:00|2005-12-18 00:00:00|2005-12-18 09:59:28|2005-12-18 10:02:07|2005-12-18 10:02:25|2005-12-18 10:03:39|2005-12-18 10:06:27|               null|               null|2005-12-18 10:35:18|\n",
            "|  60900023|   M28|       6024856|    Medical Incident|    Code 2 Transport|  GREEN ST/JASPER PL|  SF|            94133|      B01|         28|1266|               2|       2|            2|   true|         null|             1|         MEDIC|                         1|                     1|                 3|                      North Beach|(37.799601437809,...|060900023-M28|POINT (-122.40816...|                 10|                      3|                     1|                              23|     308|                23|              1|                                   null|     null|                                           null|          106|                106|                      6|                         3|2006-03-31 00:00:00|2006-03-30 00:00:00|2006-03-31 02:08:41|2006-03-31 02:09:13|2006-03-31 02:09:23|2006-03-31 02:11:30|2006-03-31 02:14:05|2006-03-31 02:54:12|               null|2006-03-31 03:27:06|\n",
            "|  60130162|   E34|       6003578|    Medical Incident|               Other|400 Block of 42ND...|  SF|            94121|      B07|         34|7265|               E|       E|            3|  false|         null|             1|        ENGINE|                         1|                     7|                 1|                   Outer Richmond|(37.780396422455,...|060130162-E34|POINT (-122.50296...|                  2|                     11|                     9|                              29|      55|                26|              6|                                   null|     null|                                           null|            8|                  8|                      8|                         4|2006-01-13 00:00:00|2006-01-13 00:00:00|2006-01-13 10:26:08|2006-01-13 10:27:47|2006-01-13 10:27:52|2006-01-13 10:28:42|2006-01-13 10:29:30|               null|               null|2006-01-13 11:06:13|\n",
            "|  61080145|   M17|       6030010|    Medical Incident|    Code 2 Transport|1100 Block of GOE...|  SF|            94134|      B10|         44|6313|               3|       3|            3|   true|         null|             1|         MEDIC|                         3|                    10|                10|                Visitacion Valley|(37.717876341099,...|061080145-M17|POINT (-122.40275...|                  8|                     10|                     4|                              40|     309|                39|              7|                                   null|     null|                                           null|           91|                 91|                      9|                         9|2006-04-18 00:00:00|2006-04-18 00:00:00|2006-04-18 09:16:37|2006-04-18 09:18:12|2006-04-18 09:18:35|2006-04-18 09:19:31|               null|2006-04-18 09:34:24|2006-04-18 10:08:12|2006-04-18 10:28:31|\n",
            "|  60880176|   B06|       6024413|    Medical Incident|               Other|900 Block of GUER...|  SF|            94110|      B06|         11|5471|               E|       E|            3|  false|         null|             1|         CHIEF|                         2|                     6|                 8|                          Mission|(37.755962946702,...|060880176-B06|POINT (-122.42336...|                  5|                      2|                     7|                              20|   28859|                19|              4|                                   null|     null|                                           null|           52|                 52|                      3|                         5|2006-03-29 00:00:00|2006-03-29 00:00:00|2006-03-29 11:59:49|2006-03-29 12:00:02|2006-03-29 12:01:38|2006-03-29 12:01:54|2006-03-29 12:05:20|               null|               null|2006-03-29 12:11:19|\n",
            "|  61040037|   E42|       6028821|Citizen Assist / ...|               Other|500 Block of FELT...|  SF|            94134|      B10|         42|6342|               3|       3|            3|   true|         null|             1|        ENGINE|                         1|                    10|                 9|                          Portola|(37.728564256729,...|061040037-E42|POINT (-122.41000...|                  7|                     10|                     3|                              25|     309|                28|              3|                                   null|     null|                                           null|           91|                 91|                      2|                         2|2006-04-14 00:00:00|2006-04-13 00:00:00|2006-04-14 05:40:45|2006-04-14 05:40:45|2006-04-14 05:40:45|2006-04-14 05:42:00|2006-04-14 05:40:45|               null|               null|2006-04-14 06:06:56|\n",
            "+----------+------+--------------+--------------------+--------------------+--------------------+----+-----------------+---------+-----------+----+----------------+--------+-------------+-------+-------------+--------------+--------------+--------------------------+----------------------+------------------+---------------------------------+--------------------+-------------+--------------------+-------------------+-----------------------+----------------------+--------------------------------+--------+------------------+---------------+---------------------------------------+---------+-----------------------------------------------+-------------+-------------------+-----------------------+--------------------------+-------------------+-------------------+-------------------+-------------------+-------------------+-------------------+-------------------+-------------------+-------------------+-------------------+\n",
            "only showing top 20 rows\n",
            "\n"
          ],
          "name": "stdout"
        }
      ]
    },
    {
      "cell_type": "code",
      "metadata": {
        "id": "NerK-8ieEYje",
        "outputId": "80b0189b-f8bf-4380-f62b-f5ac73aa2ddd",
        "colab": {
          "base_uri": "https://localhost:8080/",
          "height": 459
        }
      },
      "source": [
        "#Distinct years in the dataset\n",
        "fireServiceCallsTsDf.select(year('CallDateTS')).distinct().orderBy(year('CallDateTS')).alias('Year').show(25)"
      ],
      "execution_count": 18,
      "outputs": [
        {
          "output_type": "stream",
          "text": [
            "+----------------+\n",
            "|year(CallDateTS)|\n",
            "+----------------+\n",
            "|            2000|\n",
            "|            2001|\n",
            "|            2002|\n",
            "|            2003|\n",
            "|            2004|\n",
            "|            2005|\n",
            "|            2006|\n",
            "|            2007|\n",
            "|            2008|\n",
            "|            2009|\n",
            "|            2010|\n",
            "|            2011|\n",
            "|            2012|\n",
            "|            2013|\n",
            "|            2014|\n",
            "|            2015|\n",
            "|            2016|\n",
            "|            2017|\n",
            "|            2018|\n",
            "|            2019|\n",
            "|            2020|\n",
            "+----------------+\n",
            "\n"
          ],
          "name": "stdout"
        }
      ]
    },
    {
      "cell_type": "code",
      "metadata": {
        "id": "aAMqFmyBHztQ",
        "outputId": "fa9991fb-10ad-4630-e3e5-603b28b69289",
        "colab": {
          "base_uri": "https://localhost:8080/",
          "height": 374
        }
      },
      "source": [
        "# No. of Service Calls that were logged in the past 7 days\n",
        "\n",
        "fireServiceCallsTsDf.filter(year('CallDateTS') == '2020') \\\n",
        "                    .filter(dayofyear('CallDateTS') >= 282) \\\n",
        "                    .groupBy('CallType') \\\n",
        "                    .count() \\\n",
        "                    .orderBy('count', ascending = False) \\\n",
        "                    .show(20, False)"
      ],
      "execution_count": 19,
      "outputs": [
        {
          "output_type": "stream",
          "text": [
            "+-------------------------------+-----+\n",
            "|CallType                       |count|\n",
            "+-------------------------------+-----+\n",
            "|Medical Incident               |2127 |\n",
            "|Alarms                         |428  |\n",
            "|Structure Fire                 |189  |\n",
            "|Traffic Collision              |158  |\n",
            "|Outside Fire                   |59   |\n",
            "|Gas Leak (Natural and LP Gases)|42   |\n",
            "|Citizen Assist / Service Call  |42   |\n",
            "|Other                          |41   |\n",
            "|Water Rescue                   |21   |\n",
            "|Electrical Hazard              |16   |\n",
            "|Smoke Investigation (Outside)  |13   |\n",
            "|Elevator / Escalator Rescue    |7    |\n",
            "|Fuel Spill                     |6    |\n",
            "|Suspicious Package             |5    |\n",
            "|Odor (Strange / Unknown)       |2    |\n",
            "|Vehicle Fire                   |2    |\n",
            "+-------------------------------+-----+\n",
            "\n"
          ],
          "name": "stdout"
        }
      ]
    },
    {
      "cell_type": "code",
      "metadata": {
        "id": "brg7ZWJIOyGk",
        "outputId": "ad0d4327-1910-4f4f-8215-a0a49ef9e530",
        "colab": {
          "base_uri": "https://localhost:8080/",
          "height": 34
        }
      },
      "source": [
        "# Get the number of partitions\n",
        "fireServiceCallsTsDf.rdd.getNumPartitions()"
      ],
      "execution_count": 20,
      "outputs": [
        {
          "output_type": "execute_result",
          "data": {
            "text/plain": [
              "18"
            ]
          },
          "metadata": {
            "tags": []
          },
          "execution_count": 20
        }
      ]
    },
    {
      "cell_type": "code",
      "metadata": {
        "id": "iD3lq2NSJZNG"
      },
      "source": [
        "# create sql view for the dataframe\n",
        "fireServiceCallsTsDf.createOrReplaceTempView(\"FireServiceView\")"
      ],
      "execution_count": 21,
      "outputs": []
    },
    {
      "cell_type": "code",
      "metadata": {
        "id": "lI5jiJ1J4Hst"
      },
      "source": [
        "# spark.catalog.cacheTable(\"FireServiceView\")"
      ],
      "execution_count": 22,
      "outputs": []
    },
    {
      "cell_type": "code",
      "metadata": {
        "id": "d_qrh05s4yrG"
      },
      "source": [
        "# Get the total number of records.\n",
        "fire_sql = spark.sql(\"SELECT count(*) FROM FireServiceView\")"
      ],
      "execution_count": 23,
      "outputs": []
    },
    {
      "cell_type": "code",
      "metadata": {
        "id": "3XztUBKg8JtK",
        "outputId": "ab628870-b889-478b-d6c6-ca30770c10f4",
        "colab": {
          "base_uri": "https://localhost:8080/",
          "height": 119
        }
      },
      "source": [
        "fire_sql.show()"
      ],
      "execution_count": 24,
      "outputs": [
        {
          "output_type": "stream",
          "text": [
            "+--------+\n",
            "|count(1)|\n",
            "+--------+\n",
            "| 5391169|\n",
            "+--------+\n",
            "\n"
          ],
          "name": "stdout"
        }
      ]
    },
    {
      "cell_type": "code",
      "metadata": {
        "id": "rnOaCa0oZ-Fw"
      },
      "source": [
        "# Which neighborhood in SF generated the most calls last year\n",
        "sf_calls_sql = spark.sql(\"SELECT `Neighborhooods-AnalysisBoundaries`, count(`Neighborhooods-AnalysisBoundaries`) as neighborhood_call_count \\\n",
        "                          FROM FireServiceView \\\n",
        "                          WHERE year(`CallDateTS`) = '2019' \\\n",
        "                          GROUP BY `Neighborhooods-AnalysisBoundaries` \\\n",
        "                          ORDER BY neighborhood_call_count DESC \\\n",
        "                          LIMIT 20 \\\n",
        "                          \")"
      ],
      "execution_count": 25,
      "outputs": []
    },
    {
      "cell_type": "code",
      "metadata": {
        "id": "WWk_2hqwdOHz",
        "outputId": "6b115952-2bca-4a0f-91ff-01cc6c91713d",
        "colab": {
          "base_uri": "https://localhost:8080/",
          "height": 442
        }
      },
      "source": [
        "sf_calls_sql.show(20,False)"
      ],
      "execution_count": 26,
      "outputs": [
        {
          "output_type": "stream",
          "text": [
            "+---------------------------------+-----------------------+\n",
            "|Neighborhooods-AnalysisBoundaries|neighborhood_call_count|\n",
            "+---------------------------------+-----------------------+\n",
            "|Tenderloin                       |45852                  |\n",
            "|South of Market                  |35007                  |\n",
            "|Mission                          |28763                  |\n",
            "|Financial District/South Beach   |22652                  |\n",
            "|Bayview Hunters Point            |17008                  |\n",
            "|Sunset/Parkside                  |11294                  |\n",
            "|Western Addition                 |10627                  |\n",
            "|Nob Hill                         |10542                  |\n",
            "|Hayes Valley                     |7940                   |\n",
            "|Castro/Upper Market              |7902                   |\n",
            "|Outer Richmond                   |7661                   |\n",
            "|West of Twin Peaks               |7052                   |\n",
            "|Pacific Heights                  |6709                   |\n",
            "|Marina                           |6417                   |\n",
            "|North Beach                      |6402                   |\n",
            "|Excelsior                        |6174                   |\n",
            "|Potrero Hill                     |5653                   |\n",
            "|Chinatown                        |5641                   |\n",
            "|Bernal Heights                   |5392                   |\n",
            "|Mission Bay                      |5363                   |\n",
            "+---------------------------------+-----------------------+\n",
            "\n"
          ],
          "name": "stdout"
        }
      ]
    },
    {
      "cell_type": "code",
      "metadata": {
        "id": "If4FQGEmeVbj",
        "outputId": "a0317851-9105-454c-c3e6-87168f4d38f0",
        "colab": {
          "base_uri": "https://localhost:8080/",
          "height": 442
        }
      },
      "source": [
        "sf_calls_sql = spark.sql(\"SELECT `Neighborhooods-AnalysisBoundaries`, count(`Neighborhooods-AnalysisBoundaries`) as neighborhood_call_count \\\n",
        "                          FROM FireServiceView \\\n",
        "                          WHERE year(`CallDateTS`) = '2020' \\\n",
        "                          GROUP BY `Neighborhooods-AnalysisBoundaries` \\\n",
        "                          ORDER BY neighborhood_call_count DESC \\\n",
        "                          LIMIT 20 \\\n",
        "                          \")\n",
        "\n",
        "sf_calls_sql.show(20,False)"
      ],
      "execution_count": 27,
      "outputs": [
        {
          "output_type": "stream",
          "text": [
            "+---------------------------------+-----------------------+\n",
            "|Neighborhooods-AnalysisBoundaries|neighborhood_call_count|\n",
            "+---------------------------------+-----------------------+\n",
            "|Tenderloin                       |33276                  |\n",
            "|South of Market                  |23887                  |\n",
            "|Mission                          |19745                  |\n",
            "|Bayview Hunters Point            |13112                  |\n",
            "|Financial District/South Beach   |12600                  |\n",
            "|Sunset/Parkside                  |8408                   |\n",
            "|Western Addition                 |8328                   |\n",
            "|Nob Hill                         |7104                   |\n",
            "|Hayes Valley                     |5767                   |\n",
            "|Castro/Upper Market              |5736                   |\n",
            "|Outer Richmond                   |5681                   |\n",
            "|Pacific Heights                  |4893                   |\n",
            "|Marina                           |4822                   |\n",
            "|West of Twin Peaks               |4753                   |\n",
            "|Excelsior                        |4557                   |\n",
            "|Potrero Hill                     |4068                   |\n",
            "|North Beach                      |3875                   |\n",
            "|Bernal Heights                   |3838                   |\n",
            "|Chinatown                        |3768                   |\n",
            "|Inner Sunset                     |3466                   |\n",
            "+---------------------------------+-----------------------+\n",
            "\n"
          ],
          "name": "stdout"
        }
      ]
    },
    {
      "cell_type": "code",
      "metadata": {
        "id": "u64ETPMWiqUU",
        "outputId": "0c35e931-1496-4b66-f081-10202467faf5",
        "colab": {
          "base_uri": "https://localhost:8080/",
          "height": 408
        }
      },
      "source": [
        "# Types of calls made from Tenderloin area during this year\n",
        "sf_calls_sql = spark.sql(\"SELECT `CallType`, count(`CallType`) as call_type_count \\\n",
        "                          FROM FireServiceView \\\n",
        "                          WHERE year(`CallDateTS`) = '2020' \\\n",
        "                          AND `Neighborhooods-AnalysisBoundaries` = 'Tenderloin' \\\n",
        "                          GROUP BY `CallType` \\\n",
        "                          ORDER BY call_type_count DESC \\\n",
        "                          LIMIT 20 \\\n",
        "                          \")\n",
        "\n",
        "sf_calls_sql.show(20,False)"
      ],
      "execution_count": 28,
      "outputs": [
        {
          "output_type": "stream",
          "text": [
            "+-------------------------------+---------------+\n",
            "|CallType                       |call_type_count|\n",
            "+-------------------------------+---------------+\n",
            "|Medical Incident               |26715          |\n",
            "|Alarms                         |3122           |\n",
            "|Structure Fire                 |1700           |\n",
            "|Citizen Assist / Service Call  |469            |\n",
            "|Traffic Collision              |347            |\n",
            "|Other                          |302            |\n",
            "|Outside Fire                   |250            |\n",
            "|Elevator / Escalator Rescue    |148            |\n",
            "|Gas Leak (Natural and LP Gases)|81             |\n",
            "|Smoke Investigation (Outside)  |36             |\n",
            "|Vehicle Fire                   |33             |\n",
            "|Train / Rail Incident          |16             |\n",
            "|Fuel Spill                     |15             |\n",
            "|Electrical Hazard              |12             |\n",
            "|Odor (Strange / Unknown)       |10             |\n",
            "|HazMat                         |10             |\n",
            "|Explosion                      |9              |\n",
            "|Assist Police                  |1              |\n",
            "+-------------------------------+---------------+\n",
            "\n"
          ],
          "name": "stdout"
        }
      ]
    },
    {
      "cell_type": "code",
      "metadata": {
        "id": "-e8JefhhqnXc"
      },
      "source": [
        "# write results to a file.\n",
        "# sf_calls_sql.write.parquet(\"/content/drive/My Drive/Colab Datasets/output/\")\n",
        "\n",
        "sf_calls_sql.write.csv(\"/content/drive/My Drive/Colab Datasets/output/sf_fire_dept_output.csv\")\n",
        "\n"
      ],
      "execution_count": 29,
      "outputs": []
    }
  ]
}