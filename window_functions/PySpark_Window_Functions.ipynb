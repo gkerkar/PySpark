{
  "nbformat": 4,
  "nbformat_minor": 0,
  "metadata": {
    "colab": {
      "name": "PySpark_Window_Functions.ipynb",
      "provenance": []
    },
    "kernelspec": {
      "name": "python3",
      "display_name": "Python 3"
    }
  },
  "cells": [
    {
      "cell_type": "code",
      "metadata": {
        "id": "4GhfVni_jS0X",
        "outputId": "4a4f1b47-dd30-4708-a10a-504eb6146b5b",
        "colab": {
          "base_uri": "https://localhost:8080/",
          "height": 51
        }
      },
      "source": [
        "!pip install pyspark"
      ],
      "execution_count": 1,
      "outputs": [
        {
          "output_type": "stream",
          "text": [
            "Requirement already satisfied: pyspark in /usr/local/lib/python3.6/dist-packages (3.0.1)\n",
            "Requirement already satisfied: py4j==0.10.9 in /usr/local/lib/python3.6/dist-packages (from pyspark) (0.10.9)\n"
          ],
          "name": "stdout"
        }
      ]
    },
    {
      "cell_type": "code",
      "metadata": {
        "id": "DSwDD_dskBj-"
      },
      "source": [
        "from pyspark.sql import SparkSession"
      ],
      "execution_count": 2,
      "outputs": []
    },
    {
      "cell_type": "code",
      "metadata": {
        "id": "TnilDVMNjtAq"
      },
      "source": [
        "spark = SparkSession.builder.appName('SparkWindowFunctionsExamples').getOrCreate()"
      ],
      "execution_count": 3,
      "outputs": []
    },
    {
      "cell_type": "code",
      "metadata": {
        "id": "MaiFSasHkOyK",
        "outputId": "812ad33f-1192-40cb-d509-ecf89f58f46e",
        "colab": {
          "base_uri": "https://localhost:8080/",
          "height": 357
        }
      },
      "source": [
        "# Create sample dataframe\n",
        "\n",
        "simpleData = ((\"James\", \"Sales\", 3000), \\\n",
        "    (\"Michael\", \"Sales\", 4600),  \\\n",
        "    (\"Robert\", \"Sales\", 4100),   \\\n",
        "    (\"Maria\", \"Finance\", 3000),  \\\n",
        "    (\"James\", \"Sales\", 3000),    \\\n",
        "    (\"Scott\", \"Finance\", 3300),  \\\n",
        "    (\"Jen\", \"Finance\", 3900),    \\\n",
        "    (\"Jeff\", \"Marketing\", 3000), \\\n",
        "    (\"Kumar\", \"Marketing\", 2000),\\\n",
        "    (\"Saif\", \"Sales\", 4100) \\\n",
        "  )\n",
        " \n",
        "columns= [\"employee_name\", \"department\", \"salary\"]\n",
        "df = spark.createDataFrame(data = simpleData, schema = columns)\n",
        "df.printSchema()\n",
        "df.show(truncate=False)"
      ],
      "execution_count": 4,
      "outputs": [
        {
          "output_type": "stream",
          "text": [
            "root\n",
            " |-- employee_name: string (nullable = true)\n",
            " |-- department: string (nullable = true)\n",
            " |-- salary: long (nullable = true)\n",
            "\n",
            "+-------------+----------+------+\n",
            "|employee_name|department|salary|\n",
            "+-------------+----------+------+\n",
            "|James        |Sales     |3000  |\n",
            "|Michael      |Sales     |4600  |\n",
            "|Robert       |Sales     |4100  |\n",
            "|Maria        |Finance   |3000  |\n",
            "|James        |Sales     |3000  |\n",
            "|Scott        |Finance   |3300  |\n",
            "|Jen          |Finance   |3900  |\n",
            "|Jeff         |Marketing |3000  |\n",
            "|Kumar        |Marketing |2000  |\n",
            "|Saif         |Sales     |4100  |\n",
            "+-------------+----------+------+\n",
            "\n"
          ],
          "name": "stdout"
        }
      ]
    },
    {
      "cell_type": "code",
      "metadata": {
        "id": "jS-xtCPE5nXI"
      },
      "source": [
        "df.createOrReplaceTempView(\"employees\")"
      ],
      "execution_count": 5,
      "outputs": []
    },
    {
      "cell_type": "code",
      "metadata": {
        "id": "7IhR4ne5puXu"
      },
      "source": [
        "from pyspark.sql.window import Window\n",
        "from pyspark.sql.functions import desc, row_number, rank, dense_rank, lag, lead, col, avg, sum, min, max "
      ],
      "execution_count": 6,
      "outputs": []
    },
    {
      "cell_type": "markdown",
      "metadata": {
        "id": "DBZ1H3_HnA6L"
      },
      "source": [
        "**row_number Window Function**\n",
        "\n",
        "row_number() window function is used to give the sequential row number starting from 1 to the result of each window partition."
      ]
    },
    {
      "cell_type": "code",
      "metadata": {
        "id": "5_Ju8wzCm8uT",
        "outputId": "e5c074d1-7a95-4837-841c-0d5cedc8363d",
        "colab": {
          "base_uri": "https://localhost:8080/",
          "height": 272
        }
      },
      "source": [
        "# Partition by Department and ascending salary.\n",
        "\n",
        "df.withColumn(\"row_number\",row_number().over(Window.partitionBy(\"department\").orderBy(\"salary\"))) \\\n",
        "    .show()"
      ],
      "execution_count": 7,
      "outputs": [
        {
          "output_type": "stream",
          "text": [
            "+-------------+----------+------+----------+\n",
            "|employee_name|department|salary|row_number|\n",
            "+-------------+----------+------+----------+\n",
            "|        James|     Sales|  3000|         1|\n",
            "|        James|     Sales|  3000|         2|\n",
            "|       Robert|     Sales|  4100|         3|\n",
            "|         Saif|     Sales|  4100|         4|\n",
            "|      Michael|     Sales|  4600|         5|\n",
            "|        Maria|   Finance|  3000|         1|\n",
            "|        Scott|   Finance|  3300|         2|\n",
            "|          Jen|   Finance|  3900|         3|\n",
            "|        Kumar| Marketing|  2000|         1|\n",
            "|         Jeff| Marketing|  3000|         2|\n",
            "+-------------+----------+------+----------+\n",
            "\n"
          ],
          "name": "stdout"
        }
      ]
    },
    {
      "cell_type": "code",
      "metadata": {
        "id": "O8f9lJih5gsm",
        "outputId": "b8bd317e-3daa-442c-a0aa-0f90f2dd4ce7",
        "colab": {
          "base_uri": "https://localhost:8080/",
          "height": 272
        }
      },
      "source": [
        "spark.sql(\"SELECT employee_name, department, salary, \\\n",
        "          row_number() over (partition by department order by salary) row_number \\\n",
        "          FROM employees\").show()"
      ],
      "execution_count": 8,
      "outputs": [
        {
          "output_type": "stream",
          "text": [
            "+-------------+----------+------+----------+\n",
            "|employee_name|department|salary|row_number|\n",
            "+-------------+----------+------+----------+\n",
            "|        James|     Sales|  3000|         1|\n",
            "|        James|     Sales|  3000|         2|\n",
            "|       Robert|     Sales|  4100|         3|\n",
            "|         Saif|     Sales|  4100|         4|\n",
            "|      Michael|     Sales|  4600|         5|\n",
            "|        Maria|   Finance|  3000|         1|\n",
            "|        Scott|   Finance|  3300|         2|\n",
            "|          Jen|   Finance|  3900|         3|\n",
            "|        Kumar| Marketing|  2000|         1|\n",
            "|         Jeff| Marketing|  3000|         2|\n",
            "+-------------+----------+------+----------+\n",
            "\n"
          ],
          "name": "stdout"
        }
      ]
    },
    {
      "cell_type": "code",
      "metadata": {
        "id": "6rFgirR78QiO",
        "outputId": "f879efcb-5138-4035-b81b-854a9823fe7d",
        "colab": {
          "base_uri": "https://localhost:8080/",
          "height": 272
        }
      },
      "source": [
        "# Partition by Department and descending salary.\n",
        "\n",
        "df.withColumn(\"row_number\",row_number().over(Window.partitionBy(\"department\").orderBy(desc(\"salary\")))) \\\n",
        "    .show()"
      ],
      "execution_count": 9,
      "outputs": [
        {
          "output_type": "stream",
          "text": [
            "+-------------+----------+------+----------+\n",
            "|employee_name|department|salary|row_number|\n",
            "+-------------+----------+------+----------+\n",
            "|      Michael|     Sales|  4600|         1|\n",
            "|       Robert|     Sales|  4100|         2|\n",
            "|         Saif|     Sales|  4100|         3|\n",
            "|        James|     Sales|  3000|         4|\n",
            "|        James|     Sales|  3000|         5|\n",
            "|          Jen|   Finance|  3900|         1|\n",
            "|        Scott|   Finance|  3300|         2|\n",
            "|        Maria|   Finance|  3000|         3|\n",
            "|         Jeff| Marketing|  3000|         1|\n",
            "|        Kumar| Marketing|  2000|         2|\n",
            "+-------------+----------+------+----------+\n",
            "\n"
          ],
          "name": "stdout"
        }
      ]
    },
    {
      "cell_type": "code",
      "metadata": {
        "id": "5xYrxjAXA2Da",
        "outputId": "98768ce5-ebcb-4b8d-add6-880681bfea7c",
        "colab": {
          "base_uri": "https://localhost:8080/",
          "height": 272
        }
      },
      "source": [
        "spark.sql(\"SELECT employee_name, department, salary, \\\n",
        "          row_number() over (partition by department order by salary desc) row_number \\\n",
        "          FROM employees\").show()"
      ],
      "execution_count": 10,
      "outputs": [
        {
          "output_type": "stream",
          "text": [
            "+-------------+----------+------+----------+\n",
            "|employee_name|department|salary|row_number|\n",
            "+-------------+----------+------+----------+\n",
            "|      Michael|     Sales|  4600|         1|\n",
            "|       Robert|     Sales|  4100|         2|\n",
            "|         Saif|     Sales|  4100|         3|\n",
            "|        James|     Sales|  3000|         4|\n",
            "|        James|     Sales|  3000|         5|\n",
            "|          Jen|   Finance|  3900|         1|\n",
            "|        Scott|   Finance|  3300|         2|\n",
            "|        Maria|   Finance|  3000|         3|\n",
            "|         Jeff| Marketing|  3000|         1|\n",
            "|        Kumar| Marketing|  2000|         2|\n",
            "+-------------+----------+------+----------+\n",
            "\n"
          ],
          "name": "stdout"
        }
      ]
    },
    {
      "cell_type": "markdown",
      "metadata": {
        "id": "4Jju1K50rktj"
      },
      "source": [
        "**rank Window Function**\n",
        "\n",
        "rank() window function is used to provide a rank to the result within a window partition. This function leaves gaps in rank when there are ties."
      ]
    },
    {
      "cell_type": "code",
      "metadata": {
        "id": "m-vCGtNmphdc",
        "outputId": "48abc3f7-7c8a-40f3-bfb1-c82a5a9c17a4",
        "colab": {
          "base_uri": "https://localhost:8080/",
          "height": 272
        }
      },
      "source": [
        "# Partition by Department and ascending salary.\n",
        "\n",
        "df.withColumn(\"rank\",rank().over(Window.partitionBy(\"department\").orderBy(\"salary\"))).show()"
      ],
      "execution_count": 11,
      "outputs": [
        {
          "output_type": "stream",
          "text": [
            "+-------------+----------+------+----+\n",
            "|employee_name|department|salary|rank|\n",
            "+-------------+----------+------+----+\n",
            "|        James|     Sales|  3000|   1|\n",
            "|        James|     Sales|  3000|   1|\n",
            "|       Robert|     Sales|  4100|   3|\n",
            "|         Saif|     Sales|  4100|   3|\n",
            "|      Michael|     Sales|  4600|   5|\n",
            "|        Maria|   Finance|  3000|   1|\n",
            "|        Scott|   Finance|  3300|   2|\n",
            "|          Jen|   Finance|  3900|   3|\n",
            "|        Kumar| Marketing|  2000|   1|\n",
            "|         Jeff| Marketing|  3000|   2|\n",
            "+-------------+----------+------+----+\n",
            "\n"
          ],
          "name": "stdout"
        }
      ]
    },
    {
      "cell_type": "code",
      "metadata": {
        "id": "WYQtM6rsCTT7",
        "outputId": "02a58ec5-b094-4921-b5d6-69c2d313722d",
        "colab": {
          "base_uri": "https://localhost:8080/",
          "height": 272
        }
      },
      "source": [
        "spark.sql(\"SELECT employee_name, department, salary, rank() over(partition by department order by salary) rank \\\n",
        "            FROM employees\")\\\n",
        "            .show()"
      ],
      "execution_count": 12,
      "outputs": [
        {
          "output_type": "stream",
          "text": [
            "+-------------+----------+------+----+\n",
            "|employee_name|department|salary|rank|\n",
            "+-------------+----------+------+----+\n",
            "|        James|     Sales|  3000|   1|\n",
            "|        James|     Sales|  3000|   1|\n",
            "|       Robert|     Sales|  4100|   3|\n",
            "|         Saif|     Sales|  4100|   3|\n",
            "|      Michael|     Sales|  4600|   5|\n",
            "|        Maria|   Finance|  3000|   1|\n",
            "|        Scott|   Finance|  3300|   2|\n",
            "|          Jen|   Finance|  3900|   3|\n",
            "|        Kumar| Marketing|  2000|   1|\n",
            "|         Jeff| Marketing|  3000|   2|\n",
            "+-------------+----------+------+----+\n",
            "\n"
          ],
          "name": "stdout"
        }
      ]
    },
    {
      "cell_type": "code",
      "metadata": {
        "id": "d_NzkRNoDNdV",
        "outputId": "301e7bc0-a814-402f-a577-4d50ff6d6855",
        "colab": {
          "base_uri": "https://localhost:8080/",
          "height": 272
        }
      },
      "source": [
        "# Partition by Department and descending salary.\n",
        "\n",
        "df.withColumn(\"rank\",rank().over(Window.partitionBy(\"department\").orderBy(desc(\"salary\")))).show()"
      ],
      "execution_count": 13,
      "outputs": [
        {
          "output_type": "stream",
          "text": [
            "+-------------+----------+------+----+\n",
            "|employee_name|department|salary|rank|\n",
            "+-------------+----------+------+----+\n",
            "|      Michael|     Sales|  4600|   1|\n",
            "|       Robert|     Sales|  4100|   2|\n",
            "|         Saif|     Sales|  4100|   2|\n",
            "|        James|     Sales|  3000|   4|\n",
            "|        James|     Sales|  3000|   4|\n",
            "|          Jen|   Finance|  3900|   1|\n",
            "|        Scott|   Finance|  3300|   2|\n",
            "|        Maria|   Finance|  3000|   3|\n",
            "|         Jeff| Marketing|  3000|   1|\n",
            "|        Kumar| Marketing|  2000|   2|\n",
            "+-------------+----------+------+----+\n",
            "\n"
          ],
          "name": "stdout"
        }
      ]
    },
    {
      "cell_type": "code",
      "metadata": {
        "id": "6k9GI1GZDfKC",
        "outputId": "733628a2-2b42-4f12-f8ea-84b0aa7ac04e",
        "colab": {
          "base_uri": "https://localhost:8080/",
          "height": 272
        }
      },
      "source": [
        "spark.sql(\"SELECT employee_name, department, salary, rank() over(partition by department order by salary desc) rank \\\n",
        "            FROM employees\")\\\n",
        "            .show()"
      ],
      "execution_count": 14,
      "outputs": [
        {
          "output_type": "stream",
          "text": [
            "+-------------+----------+------+----+\n",
            "|employee_name|department|salary|rank|\n",
            "+-------------+----------+------+----+\n",
            "|      Michael|     Sales|  4600|   1|\n",
            "|       Robert|     Sales|  4100|   2|\n",
            "|         Saif|     Sales|  4100|   2|\n",
            "|        James|     Sales|  3000|   4|\n",
            "|        James|     Sales|  3000|   4|\n",
            "|          Jen|   Finance|  3900|   1|\n",
            "|        Scott|   Finance|  3300|   2|\n",
            "|        Maria|   Finance|  3000|   3|\n",
            "|         Jeff| Marketing|  3000|   1|\n",
            "|        Kumar| Marketing|  2000|   2|\n",
            "+-------------+----------+------+----+\n",
            "\n"
          ],
          "name": "stdout"
        }
      ]
    },
    {
      "cell_type": "markdown",
      "metadata": {
        "id": "XGTFVwA7xOvj"
      },
      "source": [
        "**dense_rank Window**\n",
        "\n",
        "dense_rank() window function is used to get the result with rank of rows within a window partition without any gaps. This is similar to rank() function difference being rank function leaves gaps in rank when there are ties."
      ]
    },
    {
      "cell_type": "code",
      "metadata": {
        "id": "SDszw_tYxX83",
        "outputId": "14748093-df10-4916-8295-c88d732f2bbd",
        "colab": {
          "base_uri": "https://localhost:8080/",
          "height": 272
        }
      },
      "source": [
        "# Partition by Department and ascending salary.\n",
        "\n",
        "df.withColumn(\"rank\",dense_rank().over(Window.partitionBy(\"department\").orderBy(\"salary\"))).show()"
      ],
      "execution_count": 15,
      "outputs": [
        {
          "output_type": "stream",
          "text": [
            "+-------------+----------+------+----+\n",
            "|employee_name|department|salary|rank|\n",
            "+-------------+----------+------+----+\n",
            "|        James|     Sales|  3000|   1|\n",
            "|        James|     Sales|  3000|   1|\n",
            "|       Robert|     Sales|  4100|   2|\n",
            "|         Saif|     Sales|  4100|   2|\n",
            "|      Michael|     Sales|  4600|   3|\n",
            "|        Maria|   Finance|  3000|   1|\n",
            "|        Scott|   Finance|  3300|   2|\n",
            "|          Jen|   Finance|  3900|   3|\n",
            "|        Kumar| Marketing|  2000|   1|\n",
            "|         Jeff| Marketing|  3000|   2|\n",
            "+-------------+----------+------+----+\n",
            "\n"
          ],
          "name": "stdout"
        }
      ]
    },
    {
      "cell_type": "code",
      "metadata": {
        "id": "UYM8xZAaHcMV",
        "outputId": "c56368e4-574a-4996-9992-7a97a3b8b5a4",
        "colab": {
          "base_uri": "https://localhost:8080/",
          "height": 272
        }
      },
      "source": [
        "spark.sql(\"SELECT employee_name, department, salary, dense_rank() over(partition by department order by salary) dense_rank \\\n",
        "          FROM employees\") \\\n",
        "          .show()"
      ],
      "execution_count": 16,
      "outputs": [
        {
          "output_type": "stream",
          "text": [
            "+-------------+----------+------+----------+\n",
            "|employee_name|department|salary|dense_rank|\n",
            "+-------------+----------+------+----------+\n",
            "|        James|     Sales|  3000|         1|\n",
            "|        James|     Sales|  3000|         1|\n",
            "|       Robert|     Sales|  4100|         2|\n",
            "|         Saif|     Sales|  4100|         2|\n",
            "|      Michael|     Sales|  4600|         3|\n",
            "|        Maria|   Finance|  3000|         1|\n",
            "|        Scott|   Finance|  3300|         2|\n",
            "|          Jen|   Finance|  3900|         3|\n",
            "|        Kumar| Marketing|  2000|         1|\n",
            "|         Jeff| Marketing|  3000|         2|\n",
            "+-------------+----------+------+----------+\n",
            "\n"
          ],
          "name": "stdout"
        }
      ]
    },
    {
      "cell_type": "code",
      "metadata": {
        "id": "LbeY2SJrH0Ti",
        "outputId": "0bca0125-fa22-498d-8f76-8913386373ca",
        "colab": {
          "base_uri": "https://localhost:8080/",
          "height": 272
        }
      },
      "source": [
        "# Partition by Department and descending salary.\n",
        "\n",
        "df.withColumn(\"rank\",dense_rank().over(Window.partitionBy(\"department\").orderBy(desc(\"salary\")))).show()"
      ],
      "execution_count": 17,
      "outputs": [
        {
          "output_type": "stream",
          "text": [
            "+-------------+----------+------+----+\n",
            "|employee_name|department|salary|rank|\n",
            "+-------------+----------+------+----+\n",
            "|      Michael|     Sales|  4600|   1|\n",
            "|       Robert|     Sales|  4100|   2|\n",
            "|         Saif|     Sales|  4100|   2|\n",
            "|        James|     Sales|  3000|   3|\n",
            "|        James|     Sales|  3000|   3|\n",
            "|          Jen|   Finance|  3900|   1|\n",
            "|        Scott|   Finance|  3300|   2|\n",
            "|        Maria|   Finance|  3000|   3|\n",
            "|         Jeff| Marketing|  3000|   1|\n",
            "|        Kumar| Marketing|  2000|   2|\n",
            "+-------------+----------+------+----+\n",
            "\n"
          ],
          "name": "stdout"
        }
      ]
    },
    {
      "cell_type": "code",
      "metadata": {
        "id": "xYyYFqrXH5dS",
        "outputId": "98a9a234-c78d-494b-d918-4dcd1aeb728d",
        "colab": {
          "base_uri": "https://localhost:8080/",
          "height": 272
        }
      },
      "source": [
        "spark.sql(\"SELECT employee_name, department, salary, dense_rank() over(partition by department order by salary desc) dense_rank \\\n",
        "          FROM employees\") \\\n",
        "          .show()"
      ],
      "execution_count": 18,
      "outputs": [
        {
          "output_type": "stream",
          "text": [
            "+-------------+----------+------+----------+\n",
            "|employee_name|department|salary|dense_rank|\n",
            "+-------------+----------+------+----------+\n",
            "|      Michael|     Sales|  4600|         1|\n",
            "|       Robert|     Sales|  4100|         2|\n",
            "|         Saif|     Sales|  4100|         2|\n",
            "|        James|     Sales|  3000|         3|\n",
            "|        James|     Sales|  3000|         3|\n",
            "|          Jen|   Finance|  3900|         1|\n",
            "|        Scott|   Finance|  3300|         2|\n",
            "|        Maria|   Finance|  3000|         3|\n",
            "|         Jeff| Marketing|  3000|         1|\n",
            "|        Kumar| Marketing|  2000|         2|\n",
            "+-------------+----------+------+----------+\n",
            "\n"
          ],
          "name": "stdout"
        }
      ]
    },
    {
      "cell_type": "markdown",
      "metadata": {
        "id": "Zwv9RkX-JyS6"
      },
      "source": [
        "**lag Window Function**\n",
        "\n",
        "This is the same as the LAG function in SQL."
      ]
    },
    {
      "cell_type": "code",
      "metadata": {
        "id": "pt5AbnkXJtEZ",
        "outputId": "f2252237-5baa-4412-ac27-12ce3eddf01a",
        "colab": {
          "base_uri": "https://localhost:8080/",
          "height": 272
        }
      },
      "source": [
        "# Partition by Department and ascending salary.\n",
        "\n",
        "df.withColumn(\"lag\",lag(\"salary\").over(Window.partitionBy(\"department\").orderBy(\"salary\"))).show()"
      ],
      "execution_count": 19,
      "outputs": [
        {
          "output_type": "stream",
          "text": [
            "+-------------+----------+------+----+\n",
            "|employee_name|department|salary| lag|\n",
            "+-------------+----------+------+----+\n",
            "|        James|     Sales|  3000|null|\n",
            "|        James|     Sales|  3000|3000|\n",
            "|       Robert|     Sales|  4100|3000|\n",
            "|         Saif|     Sales|  4100|4100|\n",
            "|      Michael|     Sales|  4600|4100|\n",
            "|        Maria|   Finance|  3000|null|\n",
            "|        Scott|   Finance|  3300|3000|\n",
            "|          Jen|   Finance|  3900|3300|\n",
            "|        Kumar| Marketing|  2000|null|\n",
            "|         Jeff| Marketing|  3000|2000|\n",
            "+-------------+----------+------+----+\n",
            "\n"
          ],
          "name": "stdout"
        }
      ]
    },
    {
      "cell_type": "code",
      "metadata": {
        "id": "L9c321MzLwrI",
        "outputId": "2b8982e8-5125-4055-f9e4-4a7ef4fd5225",
        "colab": {
          "base_uri": "https://localhost:8080/",
          "height": 272
        }
      },
      "source": [
        "spark.sql(\"SELECT employee_name, department, salary, lag(salary) over(partition by department order by salary) lag \\\n",
        "            FROM employees\") \\\n",
        "            .show()"
      ],
      "execution_count": 20,
      "outputs": [
        {
          "output_type": "stream",
          "text": [
            "+-------------+----------+------+----+\n",
            "|employee_name|department|salary| lag|\n",
            "+-------------+----------+------+----+\n",
            "|        James|     Sales|  3000|null|\n",
            "|        James|     Sales|  3000|3000|\n",
            "|       Robert|     Sales|  4100|3000|\n",
            "|         Saif|     Sales|  4100|4100|\n",
            "|      Michael|     Sales|  4600|4100|\n",
            "|        Maria|   Finance|  3000|null|\n",
            "|        Scott|   Finance|  3300|3000|\n",
            "|          Jen|   Finance|  3900|3300|\n",
            "|        Kumar| Marketing|  2000|null|\n",
            "|         Jeff| Marketing|  3000|2000|\n",
            "+-------------+----------+------+----+\n",
            "\n"
          ],
          "name": "stdout"
        }
      ]
    },
    {
      "cell_type": "code",
      "metadata": {
        "id": "rBwYzmMJMt6k",
        "outputId": "79cbdf21-3482-43a5-d394-2cd889b775d1",
        "colab": {
          "base_uri": "https://localhost:8080/",
          "height": 272
        }
      },
      "source": [
        "df.withColumn(\"lag\",lag(\"salary\",2,0).over(Window.partitionBy(\"department\").orderBy(\"salary\"))).show()"
      ],
      "execution_count": 21,
      "outputs": [
        {
          "output_type": "stream",
          "text": [
            "+-------------+----------+------+----+\n",
            "|employee_name|department|salary| lag|\n",
            "+-------------+----------+------+----+\n",
            "|        James|     Sales|  3000|   0|\n",
            "|        James|     Sales|  3000|   0|\n",
            "|       Robert|     Sales|  4100|3000|\n",
            "|         Saif|     Sales|  4100|3000|\n",
            "|      Michael|     Sales|  4600|4100|\n",
            "|        Maria|   Finance|  3000|   0|\n",
            "|        Scott|   Finance|  3300|   0|\n",
            "|          Jen|   Finance|  3900|3000|\n",
            "|        Kumar| Marketing|  2000|   0|\n",
            "|         Jeff| Marketing|  3000|   0|\n",
            "+-------------+----------+------+----+\n",
            "\n"
          ],
          "name": "stdout"
        }
      ]
    },
    {
      "cell_type": "code",
      "metadata": {
        "id": "B_iGzH0kPbgT",
        "outputId": "d9a9d21d-7cbe-4e66-f1bb-4054b5494b84",
        "colab": {
          "base_uri": "https://localhost:8080/",
          "height": 272
        }
      },
      "source": [
        "spark.sql(\"SELECT employee_name, department, salary, lag(salary,2,0) over(partition by department order by salary) lag \\\n",
        "            FROM employees\") \\\n",
        "            .show()"
      ],
      "execution_count": 22,
      "outputs": [
        {
          "output_type": "stream",
          "text": [
            "+-------------+----------+------+----+\n",
            "|employee_name|department|salary| lag|\n",
            "+-------------+----------+------+----+\n",
            "|        James|     Sales|  3000|   0|\n",
            "|        James|     Sales|  3000|   0|\n",
            "|       Robert|     Sales|  4100|3000|\n",
            "|         Saif|     Sales|  4100|3000|\n",
            "|      Michael|     Sales|  4600|4100|\n",
            "|        Maria|   Finance|  3000|   0|\n",
            "|        Scott|   Finance|  3300|   0|\n",
            "|          Jen|   Finance|  3900|3000|\n",
            "|        Kumar| Marketing|  2000|   0|\n",
            "|         Jeff| Marketing|  3000|   0|\n",
            "+-------------+----------+------+----+\n",
            "\n"
          ],
          "name": "stdout"
        }
      ]
    },
    {
      "cell_type": "code",
      "metadata": {
        "id": "rK2KW7rFPjuB",
        "outputId": "fc796d03-e2cf-49f2-bc77-07bbb6479bcb",
        "colab": {
          "base_uri": "https://localhost:8080/",
          "height": 272
        }
      },
      "source": [
        "# Partition by Department and descending salary.\n",
        "\n",
        "df.withColumn(\"lag\",lag(\"salary\").over(Window.partitionBy(\"department\").orderBy(desc(\"salary\")))).show()"
      ],
      "execution_count": 23,
      "outputs": [
        {
          "output_type": "stream",
          "text": [
            "+-------------+----------+------+----+\n",
            "|employee_name|department|salary| lag|\n",
            "+-------------+----------+------+----+\n",
            "|      Michael|     Sales|  4600|null|\n",
            "|       Robert|     Sales|  4100|4600|\n",
            "|         Saif|     Sales|  4100|4100|\n",
            "|        James|     Sales|  3000|4100|\n",
            "|        James|     Sales|  3000|3000|\n",
            "|          Jen|   Finance|  3900|null|\n",
            "|        Scott|   Finance|  3300|3900|\n",
            "|        Maria|   Finance|  3000|3300|\n",
            "|         Jeff| Marketing|  3000|null|\n",
            "|        Kumar| Marketing|  2000|3000|\n",
            "+-------------+----------+------+----+\n",
            "\n"
          ],
          "name": "stdout"
        }
      ]
    },
    {
      "cell_type": "code",
      "metadata": {
        "id": "IKOGy5WUTIx8",
        "outputId": "6f69fa54-fac3-4f45-a0f9-2372d2bb9ee4",
        "colab": {
          "base_uri": "https://localhost:8080/",
          "height": 272
        }
      },
      "source": [
        "spark.sql(\"SELECT employee_name, department, salary, lag(salary) over(partition by department order by salary desc) lag \\\n",
        "            FROM employees\") \\\n",
        "            .show()"
      ],
      "execution_count": 24,
      "outputs": [
        {
          "output_type": "stream",
          "text": [
            "+-------------+----------+------+----+\n",
            "|employee_name|department|salary| lag|\n",
            "+-------------+----------+------+----+\n",
            "|      Michael|     Sales|  4600|null|\n",
            "|       Robert|     Sales|  4100|4600|\n",
            "|         Saif|     Sales|  4100|4100|\n",
            "|        James|     Sales|  3000|4100|\n",
            "|        James|     Sales|  3000|3000|\n",
            "|          Jen|   Finance|  3900|null|\n",
            "|        Scott|   Finance|  3300|3900|\n",
            "|        Maria|   Finance|  3000|3300|\n",
            "|         Jeff| Marketing|  3000|null|\n",
            "|        Kumar| Marketing|  2000|3000|\n",
            "+-------------+----------+------+----+\n",
            "\n"
          ],
          "name": "stdout"
        }
      ]
    },
    {
      "cell_type": "code",
      "metadata": {
        "id": "Wvah8euTTUuN",
        "outputId": "0f5a400b-8bb9-4410-b834-850eeb1c20f7",
        "colab": {
          "base_uri": "https://localhost:8080/",
          "height": 272
        }
      },
      "source": [
        "df.withColumn(\"lag\",lag(\"salary\",2,0).over(Window.partitionBy(\"department\").orderBy(desc(\"salary\")))).show()"
      ],
      "execution_count": 25,
      "outputs": [
        {
          "output_type": "stream",
          "text": [
            "+-------------+----------+------+----+\n",
            "|employee_name|department|salary| lag|\n",
            "+-------------+----------+------+----+\n",
            "|      Michael|     Sales|  4600|   0|\n",
            "|       Robert|     Sales|  4100|   0|\n",
            "|         Saif|     Sales|  4100|4600|\n",
            "|        James|     Sales|  3000|4100|\n",
            "|        James|     Sales|  3000|4100|\n",
            "|          Jen|   Finance|  3900|   0|\n",
            "|        Scott|   Finance|  3300|   0|\n",
            "|        Maria|   Finance|  3000|3900|\n",
            "|         Jeff| Marketing|  3000|   0|\n",
            "|        Kumar| Marketing|  2000|   0|\n",
            "+-------------+----------+------+----+\n",
            "\n"
          ],
          "name": "stdout"
        }
      ]
    },
    {
      "cell_type": "code",
      "metadata": {
        "id": "IOXABPlzTbBh",
        "outputId": "a03e3159-60f0-4c31-9e4a-8d35c756b6bc",
        "colab": {
          "base_uri": "https://localhost:8080/",
          "height": 272
        }
      },
      "source": [
        "spark.sql(\"SELECT employee_name, department, salary, lag(salary,2,0) over(partition by department order by salary desc) lag \\\n",
        "            FROM employees\") \\\n",
        "            .show()"
      ],
      "execution_count": 26,
      "outputs": [
        {
          "output_type": "stream",
          "text": [
            "+-------------+----------+------+----+\n",
            "|employee_name|department|salary| lag|\n",
            "+-------------+----------+------+----+\n",
            "|      Michael|     Sales|  4600|   0|\n",
            "|       Robert|     Sales|  4100|   0|\n",
            "|         Saif|     Sales|  4100|4600|\n",
            "|        James|     Sales|  3000|4100|\n",
            "|        James|     Sales|  3000|4100|\n",
            "|          Jen|   Finance|  3900|   0|\n",
            "|        Scott|   Finance|  3300|   0|\n",
            "|        Maria|   Finance|  3000|3900|\n",
            "|         Jeff| Marketing|  3000|   0|\n",
            "|        Kumar| Marketing|  2000|   0|\n",
            "+-------------+----------+------+----+\n",
            "\n"
          ],
          "name": "stdout"
        }
      ]
    },
    {
      "cell_type": "markdown",
      "metadata": {
        "id": "6kvG1kmmQNGn"
      },
      "source": [
        "**lead Window Function**\n",
        "\n",
        "This is the same as the LEAD function in SQL."
      ]
    },
    {
      "cell_type": "code",
      "metadata": {
        "id": "BwaP0AvlQTKb",
        "outputId": "ecf17e9b-4db3-448d-c89b-40dd60595ff8",
        "colab": {
          "base_uri": "https://localhost:8080/",
          "height": 272
        }
      },
      "source": [
        "# Partition by Department and ascending salary.\n",
        "\n",
        "df.withColumn(\"lead\",lead(\"salary\").over(Window.partitionBy(\"department\").orderBy(\"salary\"))).show()"
      ],
      "execution_count": 27,
      "outputs": [
        {
          "output_type": "stream",
          "text": [
            "+-------------+----------+------+----+\n",
            "|employee_name|department|salary|lead|\n",
            "+-------------+----------+------+----+\n",
            "|        James|     Sales|  3000|3000|\n",
            "|        James|     Sales|  3000|4100|\n",
            "|       Robert|     Sales|  4100|4100|\n",
            "|         Saif|     Sales|  4100|4600|\n",
            "|      Michael|     Sales|  4600|null|\n",
            "|        Maria|   Finance|  3000|3300|\n",
            "|        Scott|   Finance|  3300|3900|\n",
            "|          Jen|   Finance|  3900|null|\n",
            "|        Kumar| Marketing|  2000|3000|\n",
            "|         Jeff| Marketing|  3000|null|\n",
            "+-------------+----------+------+----+\n",
            "\n"
          ],
          "name": "stdout"
        }
      ]
    },
    {
      "cell_type": "code",
      "metadata": {
        "id": "qJ_aPS9zROTN",
        "outputId": "989c3977-4f58-459d-9481-b38e4b87f6d4",
        "colab": {
          "base_uri": "https://localhost:8080/",
          "height": 272
        }
      },
      "source": [
        "spark.sql(\"SELECT employee_name, department, salary, lead(salary) over(partition by department order by salary) lead \\\n",
        "          FROM employees\") \\\n",
        "          .show()"
      ],
      "execution_count": 28,
      "outputs": [
        {
          "output_type": "stream",
          "text": [
            "+-------------+----------+------+----+\n",
            "|employee_name|department|salary|lead|\n",
            "+-------------+----------+------+----+\n",
            "|        James|     Sales|  3000|3000|\n",
            "|        James|     Sales|  3000|4100|\n",
            "|       Robert|     Sales|  4100|4100|\n",
            "|         Saif|     Sales|  4100|4600|\n",
            "|      Michael|     Sales|  4600|null|\n",
            "|        Maria|   Finance|  3000|3300|\n",
            "|        Scott|   Finance|  3300|3900|\n",
            "|          Jen|   Finance|  3900|null|\n",
            "|        Kumar| Marketing|  2000|3000|\n",
            "|         Jeff| Marketing|  3000|null|\n",
            "+-------------+----------+------+----+\n",
            "\n"
          ],
          "name": "stdout"
        }
      ]
    },
    {
      "cell_type": "code",
      "metadata": {
        "id": "iHzo49ubRe2e",
        "outputId": "ad026570-554e-4389-9cfe-dec424c1c519",
        "colab": {
          "base_uri": "https://localhost:8080/",
          "height": 272
        }
      },
      "source": [
        "df.withColumn(\"lead\",lead(\"salary\",2,0).over(Window.partitionBy(\"department\").orderBy(\"salary\"))).show()"
      ],
      "execution_count": 29,
      "outputs": [
        {
          "output_type": "stream",
          "text": [
            "+-------------+----------+------+----+\n",
            "|employee_name|department|salary|lead|\n",
            "+-------------+----------+------+----+\n",
            "|        James|     Sales|  3000|4100|\n",
            "|        James|     Sales|  3000|4100|\n",
            "|       Robert|     Sales|  4100|4600|\n",
            "|         Saif|     Sales|  4100|   0|\n",
            "|      Michael|     Sales|  4600|   0|\n",
            "|        Maria|   Finance|  3000|3900|\n",
            "|        Scott|   Finance|  3300|   0|\n",
            "|          Jen|   Finance|  3900|   0|\n",
            "|        Kumar| Marketing|  2000|   0|\n",
            "|         Jeff| Marketing|  3000|   0|\n",
            "+-------------+----------+------+----+\n",
            "\n"
          ],
          "name": "stdout"
        }
      ]
    },
    {
      "cell_type": "code",
      "metadata": {
        "id": "ydwcZfIqScWm",
        "outputId": "b4042d62-f8f5-4c18-989b-87ab1695e680",
        "colab": {
          "base_uri": "https://localhost:8080/",
          "height": 272
        }
      },
      "source": [
        "spark.sql(\"SELECT employee_name, department, salary, lead(salary,2,0) over(partition by department order by salary) lead \\\n",
        "          FROM employees\") \\\n",
        "          .show()"
      ],
      "execution_count": 30,
      "outputs": [
        {
          "output_type": "stream",
          "text": [
            "+-------------+----------+------+----+\n",
            "|employee_name|department|salary|lead|\n",
            "+-------------+----------+------+----+\n",
            "|        James|     Sales|  3000|4100|\n",
            "|        James|     Sales|  3000|4100|\n",
            "|       Robert|     Sales|  4100|4600|\n",
            "|         Saif|     Sales|  4100|   0|\n",
            "|      Michael|     Sales|  4600|   0|\n",
            "|        Maria|   Finance|  3000|3900|\n",
            "|        Scott|   Finance|  3300|   0|\n",
            "|          Jen|   Finance|  3900|   0|\n",
            "|        Kumar| Marketing|  2000|   0|\n",
            "|         Jeff| Marketing|  3000|   0|\n",
            "+-------------+----------+------+----+\n",
            "\n"
          ],
          "name": "stdout"
        }
      ]
    },
    {
      "cell_type": "code",
      "metadata": {
        "id": "wbHSHQ4pZ0xw",
        "outputId": "843e2b28-72af-43b4-98ce-d816f832ed35",
        "colab": {
          "base_uri": "https://localhost:8080/",
          "height": 272
        }
      },
      "source": [
        "# Partition by Department and descending salary.\n",
        "\n",
        "df.withColumn(\"lead\",lead(\"salary\").over(Window.partitionBy(\"department\").orderBy(desc(\"salary\")))).show()"
      ],
      "execution_count": 31,
      "outputs": [
        {
          "output_type": "stream",
          "text": [
            "+-------------+----------+------+----+\n",
            "|employee_name|department|salary|lead|\n",
            "+-------------+----------+------+----+\n",
            "|      Michael|     Sales|  4600|4100|\n",
            "|       Robert|     Sales|  4100|4100|\n",
            "|         Saif|     Sales|  4100|3000|\n",
            "|        James|     Sales|  3000|3000|\n",
            "|        James|     Sales|  3000|null|\n",
            "|          Jen|   Finance|  3900|3300|\n",
            "|        Scott|   Finance|  3300|3000|\n",
            "|        Maria|   Finance|  3000|null|\n",
            "|         Jeff| Marketing|  3000|2000|\n",
            "|        Kumar| Marketing|  2000|null|\n",
            "+-------------+----------+------+----+\n",
            "\n"
          ],
          "name": "stdout"
        }
      ]
    },
    {
      "cell_type": "code",
      "metadata": {
        "id": "0ei4bpsidMpU",
        "outputId": "ef4c1c60-35e8-4822-aca5-6ca03abf85c9",
        "colab": {
          "base_uri": "https://localhost:8080/",
          "height": 272
        }
      },
      "source": [
        "spark.sql(\"SELECT employee_name, department, salary, lead(salary) over(partition by department order by salary desc) lead \\\n",
        "          FROM employees\") \\\n",
        "          .show()"
      ],
      "execution_count": 32,
      "outputs": [
        {
          "output_type": "stream",
          "text": [
            "+-------------+----------+------+----+\n",
            "|employee_name|department|salary|lead|\n",
            "+-------------+----------+------+----+\n",
            "|      Michael|     Sales|  4600|4100|\n",
            "|       Robert|     Sales|  4100|4100|\n",
            "|         Saif|     Sales|  4100|3000|\n",
            "|        James|     Sales|  3000|3000|\n",
            "|        James|     Sales|  3000|null|\n",
            "|          Jen|   Finance|  3900|3300|\n",
            "|        Scott|   Finance|  3300|3000|\n",
            "|        Maria|   Finance|  3000|null|\n",
            "|         Jeff| Marketing|  3000|2000|\n",
            "|        Kumar| Marketing|  2000|null|\n",
            "+-------------+----------+------+----+\n",
            "\n"
          ],
          "name": "stdout"
        }
      ]
    },
    {
      "cell_type": "code",
      "metadata": {
        "id": "4EmUoS11dUj8",
        "outputId": "ed716220-e43b-4b10-9f90-99befb108ed0",
        "colab": {
          "base_uri": "https://localhost:8080/",
          "height": 272
        }
      },
      "source": [
        "df.withColumn(\"lead\",lead(\"salary\",2,0).over(Window.partitionBy(\"department\").orderBy(desc(\"salary\")))).show()"
      ],
      "execution_count": 33,
      "outputs": [
        {
          "output_type": "stream",
          "text": [
            "+-------------+----------+------+----+\n",
            "|employee_name|department|salary|lead|\n",
            "+-------------+----------+------+----+\n",
            "|      Michael|     Sales|  4600|4100|\n",
            "|       Robert|     Sales|  4100|3000|\n",
            "|         Saif|     Sales|  4100|3000|\n",
            "|        James|     Sales|  3000|   0|\n",
            "|        James|     Sales|  3000|   0|\n",
            "|          Jen|   Finance|  3900|3000|\n",
            "|        Scott|   Finance|  3300|   0|\n",
            "|        Maria|   Finance|  3000|   0|\n",
            "|         Jeff| Marketing|  3000|   0|\n",
            "|        Kumar| Marketing|  2000|   0|\n",
            "+-------------+----------+------+----+\n",
            "\n"
          ],
          "name": "stdout"
        }
      ]
    },
    {
      "cell_type": "code",
      "metadata": {
        "id": "k_8-tzs9da-W",
        "outputId": "e1f1b9bb-09fc-4d0b-fa15-e6763929d2c3",
        "colab": {
          "base_uri": "https://localhost:8080/",
          "height": 272
        }
      },
      "source": [
        "spark.sql(\"SELECT employee_name, department, salary, lead(salary,2,0) over(partition by department order by salary desc) lead \\\n",
        "          FROM employees\") \\\n",
        "          .show()"
      ],
      "execution_count": 34,
      "outputs": [
        {
          "output_type": "stream",
          "text": [
            "+-------------+----------+------+----+\n",
            "|employee_name|department|salary|lead|\n",
            "+-------------+----------+------+----+\n",
            "|      Michael|     Sales|  4600|4100|\n",
            "|       Robert|     Sales|  4100|3000|\n",
            "|         Saif|     Sales|  4100|3000|\n",
            "|        James|     Sales|  3000|   0|\n",
            "|        James|     Sales|  3000|   0|\n",
            "|          Jen|   Finance|  3900|3000|\n",
            "|        Scott|   Finance|  3300|   0|\n",
            "|        Maria|   Finance|  3000|   0|\n",
            "|         Jeff| Marketing|  3000|   0|\n",
            "|        Kumar| Marketing|  2000|   0|\n",
            "+-------------+----------+------+----+\n",
            "\n"
          ],
          "name": "stdout"
        }
      ]
    },
    {
      "cell_type": "markdown",
      "metadata": {
        "id": "WBhxA1hXdzSs"
      },
      "source": [
        "**PySpark Window Aggregate Functions**\n",
        "\n",
        "In this section, I will explain how to calculate sum, min, max for each department using PySpark SQL Aggregate window functions and WindowSpec. When working with Aggregate functions, we don’t need to use order by clause."
      ]
    },
    {
      "cell_type": "code",
      "metadata": {
        "id": "ZzcKGN6Id6vQ",
        "outputId": "761d3bd2-f5cf-4437-e535-0cdc584fb178",
        "colab": {
          "base_uri": "https://localhost:8080/",
          "height": 153
        }
      },
      "source": [
        "df.withColumn(\"row\",row_number().over(Window.partitionBy(\"department\").orderBy(\"salary\")))\\\n",
        "  .withColumn(\"max_dept_sal\",max(\"salary\").over(Window.partitionBy(\"department\")))\\\n",
        "  .withColumn(\"min_dept_sal\",min(\"salary\").over(Window.partitionBy(\"department\")))\\\n",
        "  .withColumn(\"avg_dept_sal\",avg(\"salary\").over(Window.partitionBy(\"department\")))\\\n",
        "  .withColumn(\"sum_dept_sal\",sum(\"salary\").over(Window.partitionBy(\"department\")))\\\n",
        "  .where(col(\"row\")==1)\\\n",
        "  .select(\"department\", \"avg_dept_sal\", \"sum_dept_sal\", \"min_dept_sal\", \"max_dept_sal\")\\\n",
        "  .show()"
      ],
      "execution_count": 35,
      "outputs": [
        {
          "output_type": "stream",
          "text": [
            "+----------+------------+------------+------------+------------+\n",
            "|department|avg_dept_sal|sum_dept_sal|min_dept_sal|max_dept_sal|\n",
            "+----------+------------+------------+------------+------------+\n",
            "|     Sales|      3760.0|       18800|        3000|        4600|\n",
            "|   Finance|      3400.0|       10200|        3000|        3900|\n",
            "| Marketing|      2500.0|        5000|        2000|        3000|\n",
            "+----------+------------+------------+------------+------------+\n",
            "\n"
          ],
          "name": "stdout"
        }
      ]
    },
    {
      "cell_type": "code",
      "metadata": {
        "id": "YBV01Eru1x5_",
        "outputId": "4989ebf9-aca3-4d6d-d214-4c257a8f2d3e",
        "colab": {
          "base_uri": "https://localhost:8080/",
          "height": 153
        }
      },
      "source": [
        "spark.sql(\"SELECT department, avg(salary) as avg_dept_sal \\\n",
        "          , sum(salary) as sum_dept_sal \\\n",
        "          , min(salary) as min_dept_sal \\\n",
        "          , max(salary) as max_dept_sal \\\n",
        "          FROM employees \\\n",
        "          GROUP BY department \\\n",
        "          \") \\\n",
        "        .show()"
      ],
      "execution_count": 36,
      "outputs": [
        {
          "output_type": "stream",
          "text": [
            "+----------+------------+------------+------------+------------+\n",
            "|department|avg_dept_sal|sum_dept_sal|min_dept_sal|max_dept_sal|\n",
            "+----------+------------+------------+------------+------------+\n",
            "|     Sales|      3760.0|       18800|        3000|        4600|\n",
            "|   Finance|      3400.0|       10200|        3000|        3900|\n",
            "| Marketing|      2500.0|        5000|        2000|        3000|\n",
            "+----------+------------+------------+------------+------------+\n",
            "\n"
          ],
          "name": "stdout"
        }
      ]
    }
  ]
}